{
 "cells": [
  {
   "cell_type": "code",
   "execution_count": 1,
   "id": "d2120e56",
   "metadata": {},
   "outputs": [],
   "source": [
    "import warnings\n",
    "warnings.filterwarnings(\"ignore\")"
   ]
  },
  {
   "cell_type": "code",
   "execution_count": 2,
   "id": "c518ea83",
   "metadata": {},
   "outputs": [],
   "source": [
    "import numpy as np\n",
    "import pandas as pd"
   ]
  },
  {
   "cell_type": "code",
   "execution_count": 3,
   "id": "abf7c5ab",
   "metadata": {},
   "outputs": [],
   "source": [
    "import os\n",
    "import pickle"
   ]
  },
  {
   "cell_type": "code",
   "execution_count": 4,
   "id": "3d017de2",
   "metadata": {},
   "outputs": [],
   "source": [
    "file = open(r'variables/nn_result.pkl', 'rb')\n",
    "nn_result = pickle.load(file)"
   ]
  },
  {
   "cell_type": "code",
   "execution_count": 5,
   "id": "a599c738",
   "metadata": {},
   "outputs": [],
   "source": [
    "train_data = nn_result[1]"
   ]
  },
  {
   "cell_type": "code",
   "execution_count": 6,
   "id": "7f833d03",
   "metadata": {},
   "outputs": [],
   "source": [
    "train_X = train_data[0]\n",
    "train_y = train_data[3]\n",
    "train_y = train_y.argmax(axis = 1)"
   ]
  },
  {
   "cell_type": "code",
   "execution_count": 7,
   "id": "139625cf",
   "metadata": {},
   "outputs": [],
   "source": [
    "val_data = nn_result[2]\n",
    "val_X = val_data[0]\n",
    "val_y = val_data[3]\n",
    "val_y = val_y.argmax(axis = 1)"
   ]
  },
  {
   "cell_type": "code",
   "execution_count": 8,
   "id": "a9fd53a6",
   "metadata": {},
   "outputs": [
    {
     "data": {
      "text/plain": [
       "(65714,)"
      ]
     },
     "execution_count": 8,
     "metadata": {},
     "output_type": "execute_result"
    }
   ],
   "source": [
    "train_y.shape"
   ]
  },
  {
   "cell_type": "code",
   "execution_count": 83,
   "id": "42165a34",
   "metadata": {},
   "outputs": [],
   "source": [
    "from sklearn.ensemble import RandomForestClassifier, GradientBoostingClassifier\n",
    "\n",
    "import xgboost as xgb\n",
    "from sklearn.svm import SVC\n",
    "from sklearn.model_selection import GridSearchCV"
   ]
  },
  {
   "cell_type": "code",
   "execution_count": 20,
   "id": "f0f2feb6",
   "metadata": {},
   "outputs": [],
   "source": [
    "from sklearn.metrics import accuracy_score"
   ]
  },
  {
   "cell_type": "markdown",
   "id": "ab36177a",
   "metadata": {},
   "source": [
    "### generate three base models"
   ]
  },
  {
   "cell_type": "code",
   "execution_count": 11,
   "id": "170d5be6",
   "metadata": {},
   "outputs": [],
   "source": [
    "rf = RandomForestClassifier()\n",
    "# rf.fit(train_X, train_y)"
   ]
  },
  {
   "cell_type": "code",
   "execution_count": 438,
   "id": "a8ebfe54",
   "metadata": {
    "scrolled": true
   },
   "outputs": [
    {
     "name": "stdout",
     "output_type": "stream",
     "text": [
      "Fitting 3 folds for each of 80 candidates, totalling 240 fits\n",
      "[CV 1/3] END ccp_alpha=0.0, min_samples_leaf=2, min_samples_split=2;, score=0.695 total time=  22.6s\n",
      "[CV 2/3] END ccp_alpha=0.0, min_samples_leaf=2, min_samples_split=2;, score=0.688 total time=  23.5s\n",
      "[CV 3/3] END ccp_alpha=0.0, min_samples_leaf=2, min_samples_split=2;, score=0.690 total time=  27.2s\n",
      "[CV 1/3] END ccp_alpha=0.0, min_samples_leaf=2, min_samples_split=5;, score=0.696 total time=  25.0s\n",
      "[CV 2/3] END ccp_alpha=0.0, min_samples_leaf=2, min_samples_split=5;, score=0.688 total time=  28.9s\n",
      "[CV 3/3] END ccp_alpha=0.0, min_samples_leaf=2, min_samples_split=5;, score=0.692 total time=  30.3s\n",
      "[CV 1/3] END ccp_alpha=0.0, min_samples_leaf=2, min_samples_split=10;, score=0.692 total time=  32.0s\n",
      "[CV 2/3] END ccp_alpha=0.0, min_samples_leaf=2, min_samples_split=10;, score=0.683 total time=  30.3s\n",
      "[CV 3/3] END ccp_alpha=0.0, min_samples_leaf=2, min_samples_split=10;, score=0.691 total time=  25.8s\n",
      "[CV 1/3] END ccp_alpha=0.0, min_samples_leaf=2, min_samples_split=20;, score=0.688 total time=  23.6s\n",
      "[CV 2/3] END ccp_alpha=0.0, min_samples_leaf=2, min_samples_split=20;, score=0.681 total time=  26.9s\n",
      "[CV 3/3] END ccp_alpha=0.0, min_samples_leaf=2, min_samples_split=20;, score=0.685 total time=  24.4s\n",
      "[CV 1/3] END ccp_alpha=0.0, min_samples_leaf=5, min_samples_split=2;, score=0.689 total time=  23.5s\n",
      "[CV 2/3] END ccp_alpha=0.0, min_samples_leaf=5, min_samples_split=2;, score=0.682 total time=  24.2s\n",
      "[CV 3/3] END ccp_alpha=0.0, min_samples_leaf=5, min_samples_split=2;, score=0.687 total time=  26.0s\n",
      "[CV 1/3] END ccp_alpha=0.0, min_samples_leaf=5, min_samples_split=5;, score=0.688 total time=  25.0s\n",
      "[CV 2/3] END ccp_alpha=0.0, min_samples_leaf=5, min_samples_split=5;, score=0.681 total time=  25.0s\n",
      "[CV 3/3] END ccp_alpha=0.0, min_samples_leaf=5, min_samples_split=5;, score=0.686 total time=  22.3s\n",
      "[CV 1/3] END ccp_alpha=0.0, min_samples_leaf=5, min_samples_split=10;, score=0.690 total time=  21.4s\n",
      "[CV 2/3] END ccp_alpha=0.0, min_samples_leaf=5, min_samples_split=10;, score=0.683 total time=  26.0s\n",
      "[CV 3/3] END ccp_alpha=0.0, min_samples_leaf=5, min_samples_split=10;, score=0.687 total time=  28.1s\n",
      "[CV 1/3] END ccp_alpha=0.0, min_samples_leaf=5, min_samples_split=20;, score=0.686 total time=  25.1s\n",
      "[CV 2/3] END ccp_alpha=0.0, min_samples_leaf=5, min_samples_split=20;, score=0.679 total time=  24.2s\n",
      "[CV 3/3] END ccp_alpha=0.0, min_samples_leaf=5, min_samples_split=20;, score=0.683 total time=  21.8s\n",
      "[CV 1/3] END ccp_alpha=0.0, min_samples_leaf=10, min_samples_split=2;, score=0.684 total time=  19.2s\n",
      "[CV 2/3] END ccp_alpha=0.0, min_samples_leaf=10, min_samples_split=2;, score=0.677 total time=  20.6s\n",
      "[CV 3/3] END ccp_alpha=0.0, min_samples_leaf=10, min_samples_split=2;, score=0.682 total time=  23.9s\n",
      "[CV 1/3] END ccp_alpha=0.0, min_samples_leaf=10, min_samples_split=5;, score=0.683 total time=  17.4s\n",
      "[CV 2/3] END ccp_alpha=0.0, min_samples_leaf=10, min_samples_split=5;, score=0.676 total time=  17.4s\n",
      "[CV 3/3] END ccp_alpha=0.0, min_samples_leaf=10, min_samples_split=5;, score=0.683 total time=  17.4s\n",
      "[CV 1/3] END ccp_alpha=0.0, min_samples_leaf=10, min_samples_split=10;, score=0.685 total time=  17.4s\n",
      "[CV 2/3] END ccp_alpha=0.0, min_samples_leaf=10, min_samples_split=10;, score=0.678 total time=  17.5s\n",
      "[CV 3/3] END ccp_alpha=0.0, min_samples_leaf=10, min_samples_split=10;, score=0.681 total time=  20.8s\n",
      "[CV 1/3] END ccp_alpha=0.0, min_samples_leaf=10, min_samples_split=20;, score=0.683 total time=  19.4s\n",
      "[CV 2/3] END ccp_alpha=0.0, min_samples_leaf=10, min_samples_split=20;, score=0.675 total time=  19.6s\n",
      "[CV 3/3] END ccp_alpha=0.0, min_samples_leaf=10, min_samples_split=20;, score=0.680 total time=  18.8s\n",
      "[CV 1/3] END ccp_alpha=0.0, min_samples_leaf=20, min_samples_split=2;, score=0.678 total time=  18.0s\n",
      "[CV 2/3] END ccp_alpha=0.0, min_samples_leaf=20, min_samples_split=2;, score=0.669 total time=  17.6s\n",
      "[CV 3/3] END ccp_alpha=0.0, min_samples_leaf=20, min_samples_split=2;, score=0.675 total time=  17.6s\n",
      "[CV 1/3] END ccp_alpha=0.0, min_samples_leaf=20, min_samples_split=5;, score=0.677 total time=  16.9s\n",
      "[CV 2/3] END ccp_alpha=0.0, min_samples_leaf=20, min_samples_split=5;, score=0.669 total time=  16.1s\n",
      "[CV 3/3] END ccp_alpha=0.0, min_samples_leaf=20, min_samples_split=5;, score=0.674 total time=  15.9s\n",
      "[CV 1/3] END ccp_alpha=0.0, min_samples_leaf=20, min_samples_split=10;, score=0.679 total time=  16.2s\n",
      "[CV 2/3] END ccp_alpha=0.0, min_samples_leaf=20, min_samples_split=10;, score=0.669 total time=  15.8s\n",
      "[CV 3/3] END ccp_alpha=0.0, min_samples_leaf=20, min_samples_split=10;, score=0.674 total time=  16.1s\n",
      "[CV 1/3] END ccp_alpha=0.0, min_samples_leaf=20, min_samples_split=20;, score=0.677 total time=  15.8s\n",
      "[CV 2/3] END ccp_alpha=0.0, min_samples_leaf=20, min_samples_split=20;, score=0.670 total time=  16.9s\n",
      "[CV 3/3] END ccp_alpha=0.0, min_samples_leaf=20, min_samples_split=20;, score=0.676 total time=  17.4s\n",
      "[CV 1/3] END ccp_alpha=0.0, min_samples_leaf=100, min_samples_split=2;, score=0.655 total time=  11.1s\n",
      "[CV 2/3] END ccp_alpha=0.0, min_samples_leaf=100, min_samples_split=2;, score=0.649 total time=  11.9s\n",
      "[CV 3/3] END ccp_alpha=0.0, min_samples_leaf=100, min_samples_split=2;, score=0.655 total time=  11.7s\n",
      "[CV 1/3] END ccp_alpha=0.0, min_samples_leaf=100, min_samples_split=5;, score=0.656 total time=  11.4s\n",
      "[CV 2/3] END ccp_alpha=0.0, min_samples_leaf=100, min_samples_split=5;, score=0.649 total time=  11.2s\n",
      "[CV 3/3] END ccp_alpha=0.0, min_samples_leaf=100, min_samples_split=5;, score=0.653 total time=  12.1s\n",
      "[CV 1/3] END ccp_alpha=0.0, min_samples_leaf=100, min_samples_split=10;, score=0.655 total time=  12.9s\n",
      "[CV 2/3] END ccp_alpha=0.0, min_samples_leaf=100, min_samples_split=10;, score=0.649 total time=  12.5s\n",
      "[CV 3/3] END ccp_alpha=0.0, min_samples_leaf=100, min_samples_split=10;, score=0.654 total time=  13.7s\n",
      "[CV 1/3] END ccp_alpha=0.0, min_samples_leaf=100, min_samples_split=20;, score=0.656 total time=  11.9s\n",
      "[CV 2/3] END ccp_alpha=0.0, min_samples_leaf=100, min_samples_split=20;, score=0.648 total time=  11.6s\n",
      "[CV 3/3] END ccp_alpha=0.0, min_samples_leaf=100, min_samples_split=20;, score=0.653 total time=  12.7s\n",
      "[CV 1/3] END ccp_alpha=0.09999999999999999, min_samples_leaf=2, min_samples_split=2;, score=0.523 total time=  40.6s\n",
      "[CV 2/3] END ccp_alpha=0.09999999999999999, min_samples_leaf=2, min_samples_split=2;, score=0.523 total time=  40.7s\n",
      "[CV 3/3] END ccp_alpha=0.09999999999999999, min_samples_leaf=2, min_samples_split=2;, score=0.523 total time=  37.3s\n",
      "[CV 1/3] END ccp_alpha=0.09999999999999999, min_samples_leaf=2, min_samples_split=5;, score=0.523 total time=  33.2s\n",
      "[CV 2/3] END ccp_alpha=0.09999999999999999, min_samples_leaf=2, min_samples_split=5;, score=0.523 total time=  37.6s\n",
      "[CV 3/3] END ccp_alpha=0.09999999999999999, min_samples_leaf=2, min_samples_split=5;, score=0.523 total time=  37.6s\n",
      "[CV 1/3] END ccp_alpha=0.09999999999999999, min_samples_leaf=2, min_samples_split=10;, score=0.523 total time=  30.6s\n",
      "[CV 2/3] END ccp_alpha=0.09999999999999999, min_samples_leaf=2, min_samples_split=10;, score=0.523 total time=  29.1s\n",
      "[CV 3/3] END ccp_alpha=0.09999999999999999, min_samples_leaf=2, min_samples_split=10;, score=0.523 total time=  31.5s\n",
      "[CV 1/3] END ccp_alpha=0.09999999999999999, min_samples_leaf=2, min_samples_split=20;, score=0.523 total time=  27.1s\n",
      "[CV 2/3] END ccp_alpha=0.09999999999999999, min_samples_leaf=2, min_samples_split=20;, score=0.523 total time=  25.9s\n",
      "[CV 3/3] END ccp_alpha=0.09999999999999999, min_samples_leaf=2, min_samples_split=20;, score=0.523 total time=  27.1s\n",
      "[CV 1/3] END ccp_alpha=0.09999999999999999, min_samples_leaf=5, min_samples_split=2;, score=0.523 total time=  29.1s\n",
      "[CV 2/3] END ccp_alpha=0.09999999999999999, min_samples_leaf=5, min_samples_split=2;, score=0.523 total time=  24.6s\n",
      "[CV 3/3] END ccp_alpha=0.09999999999999999, min_samples_leaf=5, min_samples_split=2;, score=0.523 total time=  26.3s\n",
      "[CV 1/3] END ccp_alpha=0.09999999999999999, min_samples_leaf=5, min_samples_split=5;, score=0.523 total time=  25.1s\n",
      "[CV 2/3] END ccp_alpha=0.09999999999999999, min_samples_leaf=5, min_samples_split=5;, score=0.523 total time=  25.8s\n"
     ]
    },
    {
     "name": "stdout",
     "output_type": "stream",
     "text": [
      "[CV 3/3] END ccp_alpha=0.09999999999999999, min_samples_leaf=5, min_samples_split=5;, score=0.523 total time=  24.1s\n",
      "[CV 1/3] END ccp_alpha=0.09999999999999999, min_samples_leaf=5, min_samples_split=10;, score=0.523 total time=  25.8s\n",
      "[CV 2/3] END ccp_alpha=0.09999999999999999, min_samples_leaf=5, min_samples_split=10;, score=0.523 total time=  26.0s\n",
      "[CV 3/3] END ccp_alpha=0.09999999999999999, min_samples_leaf=5, min_samples_split=10;, score=0.523 total time=  24.8s\n",
      "[CV 1/3] END ccp_alpha=0.09999999999999999, min_samples_leaf=5, min_samples_split=20;, score=0.523 total time=  25.9s\n",
      "[CV 2/3] END ccp_alpha=0.09999999999999999, min_samples_leaf=5, min_samples_split=20;, score=0.523 total time=  23.1s\n",
      "[CV 3/3] END ccp_alpha=0.09999999999999999, min_samples_leaf=5, min_samples_split=20;, score=0.523 total time=  22.5s\n",
      "[CV 1/3] END ccp_alpha=0.09999999999999999, min_samples_leaf=10, min_samples_split=2;, score=0.523 total time=  19.7s\n",
      "[CV 2/3] END ccp_alpha=0.09999999999999999, min_samples_leaf=10, min_samples_split=2;, score=0.523 total time=  18.4s\n",
      "[CV 3/3] END ccp_alpha=0.09999999999999999, min_samples_leaf=10, min_samples_split=2;, score=0.523 total time=  19.5s\n",
      "[CV 1/3] END ccp_alpha=0.09999999999999999, min_samples_leaf=10, min_samples_split=5;, score=0.523 total time=  19.7s\n",
      "[CV 2/3] END ccp_alpha=0.09999999999999999, min_samples_leaf=10, min_samples_split=5;, score=0.523 total time=  19.8s\n",
      "[CV 3/3] END ccp_alpha=0.09999999999999999, min_samples_leaf=10, min_samples_split=5;, score=0.523 total time=  22.0s\n",
      "[CV 1/3] END ccp_alpha=0.09999999999999999, min_samples_leaf=10, min_samples_split=10;, score=0.523 total time=  20.1s\n",
      "[CV 2/3] END ccp_alpha=0.09999999999999999, min_samples_leaf=10, min_samples_split=10;, score=0.523 total time=  19.2s\n",
      "[CV 3/3] END ccp_alpha=0.09999999999999999, min_samples_leaf=10, min_samples_split=10;, score=0.523 total time=  18.9s\n",
      "[CV 1/3] END ccp_alpha=0.09999999999999999, min_samples_leaf=10, min_samples_split=20;, score=0.523 total time=  20.8s\n",
      "[CV 2/3] END ccp_alpha=0.09999999999999999, min_samples_leaf=10, min_samples_split=20;, score=0.523 total time=  19.7s\n",
      "[CV 3/3] END ccp_alpha=0.09999999999999999, min_samples_leaf=10, min_samples_split=20;, score=0.523 total time=  20.2s\n",
      "[CV 1/3] END ccp_alpha=0.09999999999999999, min_samples_leaf=20, min_samples_split=2;, score=0.523 total time=  17.5s\n",
      "[CV 2/3] END ccp_alpha=0.09999999999999999, min_samples_leaf=20, min_samples_split=2;, score=0.523 total time=  18.2s\n",
      "[CV 3/3] END ccp_alpha=0.09999999999999999, min_samples_leaf=20, min_samples_split=2;, score=0.523 total time=  16.2s\n",
      "[CV 1/3] END ccp_alpha=0.09999999999999999, min_samples_leaf=20, min_samples_split=5;, score=0.523 total time=  16.8s\n",
      "[CV 2/3] END ccp_alpha=0.09999999999999999, min_samples_leaf=20, min_samples_split=5;, score=0.523 total time=  15.8s\n",
      "[CV 3/3] END ccp_alpha=0.09999999999999999, min_samples_leaf=20, min_samples_split=5;, score=0.523 total time=  18.2s\n",
      "[CV 1/3] END ccp_alpha=0.09999999999999999, min_samples_leaf=20, min_samples_split=10;, score=0.523 total time=  17.1s\n",
      "[CV 2/3] END ccp_alpha=0.09999999999999999, min_samples_leaf=20, min_samples_split=10;, score=0.523 total time=  18.4s\n",
      "[CV 3/3] END ccp_alpha=0.09999999999999999, min_samples_leaf=20, min_samples_split=10;, score=0.523 total time=  21.4s\n",
      "[CV 1/3] END ccp_alpha=0.09999999999999999, min_samples_leaf=20, min_samples_split=20;, score=0.523 total time=  18.0s\n",
      "[CV 2/3] END ccp_alpha=0.09999999999999999, min_samples_leaf=20, min_samples_split=20;, score=0.523 total time=  18.1s\n",
      "[CV 3/3] END ccp_alpha=0.09999999999999999, min_samples_leaf=20, min_samples_split=20;, score=0.523 total time=  17.2s\n",
      "[CV 1/3] END ccp_alpha=0.09999999999999999, min_samples_leaf=100, min_samples_split=2;, score=0.523 total time=  11.1s\n",
      "[CV 2/3] END ccp_alpha=0.09999999999999999, min_samples_leaf=100, min_samples_split=2;, score=0.523 total time=  10.6s\n",
      "[CV 3/3] END ccp_alpha=0.09999999999999999, min_samples_leaf=100, min_samples_split=2;, score=0.523 total time=  10.6s\n",
      "[CV 1/3] END ccp_alpha=0.09999999999999999, min_samples_leaf=100, min_samples_split=5;, score=0.523 total time=  12.8s\n",
      "[CV 2/3] END ccp_alpha=0.09999999999999999, min_samples_leaf=100, min_samples_split=5;, score=0.523 total time=  11.7s\n",
      "[CV 3/3] END ccp_alpha=0.09999999999999999, min_samples_leaf=100, min_samples_split=5;, score=0.523 total time=  11.5s\n",
      "[CV 1/3] END ccp_alpha=0.09999999999999999, min_samples_leaf=100, min_samples_split=10;, score=0.523 total time=  11.0s\n",
      "[CV 2/3] END ccp_alpha=0.09999999999999999, min_samples_leaf=100, min_samples_split=10;, score=0.523 total time=  12.5s\n",
      "[CV 3/3] END ccp_alpha=0.09999999999999999, min_samples_leaf=100, min_samples_split=10;, score=0.523 total time=  11.9s\n",
      "[CV 1/3] END ccp_alpha=0.09999999999999999, min_samples_leaf=100, min_samples_split=20;, score=0.523 total time=  11.3s\n",
      "[CV 2/3] END ccp_alpha=0.09999999999999999, min_samples_leaf=100, min_samples_split=20;, score=0.523 total time=  11.2s\n",
      "[CV 3/3] END ccp_alpha=0.09999999999999999, min_samples_leaf=100, min_samples_split=20;, score=0.523 total time=  11.3s\n",
      "[CV 1/3] END ccp_alpha=0.19999999999999998, min_samples_leaf=2, min_samples_split=2;, score=0.523 total time=  37.5s\n",
      "[CV 2/3] END ccp_alpha=0.19999999999999998, min_samples_leaf=2, min_samples_split=2;, score=0.523 total time=  40.4s\n",
      "[CV 3/3] END ccp_alpha=0.19999999999999998, min_samples_leaf=2, min_samples_split=2;, score=0.523 total time=  42.8s\n",
      "[CV 1/3] END ccp_alpha=0.19999999999999998, min_samples_leaf=2, min_samples_split=5;, score=0.523 total time=  34.5s\n",
      "[CV 2/3] END ccp_alpha=0.19999999999999998, min_samples_leaf=2, min_samples_split=5;, score=0.523 total time=  33.9s\n",
      "[CV 3/3] END ccp_alpha=0.19999999999999998, min_samples_leaf=2, min_samples_split=5;, score=0.523 total time=  38.1s\n",
      "[CV 1/3] END ccp_alpha=0.19999999999999998, min_samples_leaf=2, min_samples_split=10;, score=0.523 total time=  27.0s\n",
      "[CV 2/3] END ccp_alpha=0.19999999999999998, min_samples_leaf=2, min_samples_split=10;, score=0.523 total time=  27.2s\n",
      "[CV 3/3] END ccp_alpha=0.19999999999999998, min_samples_leaf=2, min_samples_split=10;, score=0.523 total time=  27.1s\n",
      "[CV 1/3] END ccp_alpha=0.19999999999999998, min_samples_leaf=2, min_samples_split=20;, score=0.523 total time=  24.8s\n",
      "[CV 2/3] END ccp_alpha=0.19999999999999998, min_samples_leaf=2, min_samples_split=20;, score=0.523 total time=  23.9s\n",
      "[CV 3/3] END ccp_alpha=0.19999999999999998, min_samples_leaf=2, min_samples_split=20;, score=0.523 total time=  23.5s\n",
      "[CV 1/3] END ccp_alpha=0.19999999999999998, min_samples_leaf=5, min_samples_split=2;, score=0.523 total time=  27.3s\n",
      "[CV 2/3] END ccp_alpha=0.19999999999999998, min_samples_leaf=5, min_samples_split=2;, score=0.523 total time=  24.6s\n",
      "[CV 3/3] END ccp_alpha=0.19999999999999998, min_samples_leaf=5, min_samples_split=2;, score=0.523 total time=  25.9s\n",
      "[CV 1/3] END ccp_alpha=0.19999999999999998, min_samples_leaf=5, min_samples_split=5;, score=0.523 total time=  26.4s\n",
      "[CV 2/3] END ccp_alpha=0.19999999999999998, min_samples_leaf=5, min_samples_split=5;, score=0.523 total time=  25.4s\n",
      "[CV 3/3] END ccp_alpha=0.19999999999999998, min_samples_leaf=5, min_samples_split=5;, score=0.523 total time=  23.1s\n",
      "[CV 1/3] END ccp_alpha=0.19999999999999998, min_samples_leaf=5, min_samples_split=10;, score=0.523 total time=  24.7s\n",
      "[CV 2/3] END ccp_alpha=0.19999999999999998, min_samples_leaf=5, min_samples_split=10;, score=0.523 total time=  26.4s\n",
      "[CV 3/3] END ccp_alpha=0.19999999999999998, min_samples_leaf=5, min_samples_split=10;, score=0.523 total time=  24.8s\n",
      "[CV 1/3] END ccp_alpha=0.19999999999999998, min_samples_leaf=5, min_samples_split=20;, score=0.523 total time=  21.9s\n",
      "[CV 2/3] END ccp_alpha=0.19999999999999998, min_samples_leaf=5, min_samples_split=20;, score=0.523 total time=  20.8s\n",
      "[CV 3/3] END ccp_alpha=0.19999999999999998, min_samples_leaf=5, min_samples_split=20;, score=0.523 total time=  20.8s\n",
      "[CV 1/3] END ccp_alpha=0.19999999999999998, min_samples_leaf=10, min_samples_split=2;, score=0.523 total time=  22.2s\n",
      "[CV 2/3] END ccp_alpha=0.19999999999999998, min_samples_leaf=10, min_samples_split=2;, score=0.523 total time=  22.2s\n",
      "[CV 3/3] END ccp_alpha=0.19999999999999998, min_samples_leaf=10, min_samples_split=2;, score=0.523 total time=  19.7s\n"
     ]
    },
    {
     "name": "stdout",
     "output_type": "stream",
     "text": [
      "[CV 1/3] END ccp_alpha=0.19999999999999998, min_samples_leaf=10, min_samples_split=5;, score=0.523 total time=  20.2s\n",
      "[CV 2/3] END ccp_alpha=0.19999999999999998, min_samples_leaf=10, min_samples_split=5;, score=0.523 total time=  20.1s\n",
      "[CV 3/3] END ccp_alpha=0.19999999999999998, min_samples_leaf=10, min_samples_split=5;, score=0.523 total time=  20.4s\n",
      "[CV 1/3] END ccp_alpha=0.19999999999999998, min_samples_leaf=10, min_samples_split=10;, score=0.523 total time=  23.6s\n",
      "[CV 2/3] END ccp_alpha=0.19999999999999998, min_samples_leaf=10, min_samples_split=10;, score=0.523 total time=  20.5s\n",
      "[CV 3/3] END ccp_alpha=0.19999999999999998, min_samples_leaf=10, min_samples_split=10;, score=0.523 total time=  19.1s\n",
      "[CV 1/3] END ccp_alpha=0.19999999999999998, min_samples_leaf=10, min_samples_split=20;, score=0.523 total time=  19.7s\n",
      "[CV 2/3] END ccp_alpha=0.19999999999999998, min_samples_leaf=10, min_samples_split=20;, score=0.523 total time=  20.9s\n",
      "[CV 3/3] END ccp_alpha=0.19999999999999998, min_samples_leaf=10, min_samples_split=20;, score=0.523 total time=  21.7s\n",
      "[CV 1/3] END ccp_alpha=0.19999999999999998, min_samples_leaf=20, min_samples_split=2;, score=0.523 total time=  18.8s\n",
      "[CV 2/3] END ccp_alpha=0.19999999999999998, min_samples_leaf=20, min_samples_split=2;, score=0.523 total time=  16.3s\n",
      "[CV 3/3] END ccp_alpha=0.19999999999999998, min_samples_leaf=20, min_samples_split=2;, score=0.523 total time=  15.8s\n",
      "[CV 1/3] END ccp_alpha=0.19999999999999998, min_samples_leaf=20, min_samples_split=5;, score=0.523 total time=  15.9s\n",
      "[CV 2/3] END ccp_alpha=0.19999999999999998, min_samples_leaf=20, min_samples_split=5;, score=0.523 total time=  15.2s\n",
      "[CV 3/3] END ccp_alpha=0.19999999999999998, min_samples_leaf=20, min_samples_split=5;, score=0.523 total time=  15.5s\n",
      "[CV 1/3] END ccp_alpha=0.19999999999999998, min_samples_leaf=20, min_samples_split=10;, score=0.523 total time=  17.1s\n",
      "[CV 2/3] END ccp_alpha=0.19999999999999998, min_samples_leaf=20, min_samples_split=10;, score=0.523 total time=  15.5s\n",
      "[CV 3/3] END ccp_alpha=0.19999999999999998, min_samples_leaf=20, min_samples_split=10;, score=0.523 total time=  17.7s\n",
      "[CV 1/3] END ccp_alpha=0.19999999999999998, min_samples_leaf=20, min_samples_split=20;, score=0.523 total time=  16.4s\n",
      "[CV 2/3] END ccp_alpha=0.19999999999999998, min_samples_leaf=20, min_samples_split=20;, score=0.523 total time=  17.3s\n",
      "[CV 3/3] END ccp_alpha=0.19999999999999998, min_samples_leaf=20, min_samples_split=20;, score=0.523 total time=  16.7s\n",
      "[CV 1/3] END ccp_alpha=0.19999999999999998, min_samples_leaf=100, min_samples_split=2;, score=0.523 total time=  10.7s\n",
      "[CV 2/3] END ccp_alpha=0.19999999999999998, min_samples_leaf=100, min_samples_split=2;, score=0.523 total time=  12.6s\n",
      "[CV 3/3] END ccp_alpha=0.19999999999999998, min_samples_leaf=100, min_samples_split=2;, score=0.523 total time=  15.3s\n",
      "[CV 1/3] END ccp_alpha=0.19999999999999998, min_samples_leaf=100, min_samples_split=5;, score=0.523 total time=  13.1s\n",
      "[CV 2/3] END ccp_alpha=0.19999999999999998, min_samples_leaf=100, min_samples_split=5;, score=0.523 total time=  13.0s\n",
      "[CV 3/3] END ccp_alpha=0.19999999999999998, min_samples_leaf=100, min_samples_split=5;, score=0.523 total time=  10.9s\n",
      "[CV 1/3] END ccp_alpha=0.19999999999999998, min_samples_leaf=100, min_samples_split=10;, score=0.523 total time=  12.0s\n",
      "[CV 2/3] END ccp_alpha=0.19999999999999998, min_samples_leaf=100, min_samples_split=10;, score=0.523 total time=  11.3s\n",
      "[CV 3/3] END ccp_alpha=0.19999999999999998, min_samples_leaf=100, min_samples_split=10;, score=0.523 total time=  13.1s\n",
      "[CV 1/3] END ccp_alpha=0.19999999999999998, min_samples_leaf=100, min_samples_split=20;, score=0.523 total time=  10.6s\n",
      "[CV 2/3] END ccp_alpha=0.19999999999999998, min_samples_leaf=100, min_samples_split=20;, score=0.523 total time=  11.0s\n",
      "[CV 3/3] END ccp_alpha=0.19999999999999998, min_samples_leaf=100, min_samples_split=20;, score=0.523 total time=  12.6s\n",
      "[CV 1/3] END ccp_alpha=0.3, min_samples_leaf=2, min_samples_split=2;, score=0.523 total time=  40.0s\n",
      "[CV 2/3] END ccp_alpha=0.3, min_samples_leaf=2, min_samples_split=2;, score=0.523 total time=  38.7s\n",
      "[CV 3/3] END ccp_alpha=0.3, min_samples_leaf=2, min_samples_split=2;, score=0.523 total time=  37.1s\n",
      "[CV 1/3] END ccp_alpha=0.3, min_samples_leaf=2, min_samples_split=5;, score=0.523 total time=  35.0s\n",
      "[CV 2/3] END ccp_alpha=0.3, min_samples_leaf=2, min_samples_split=5;, score=0.523 total time=  33.0s\n",
      "[CV 3/3] END ccp_alpha=0.3, min_samples_leaf=2, min_samples_split=5;, score=0.523 total time=  32.7s\n",
      "[CV 1/3] END ccp_alpha=0.3, min_samples_leaf=2, min_samples_split=10;, score=0.523 total time=  24.6s\n",
      "[CV 2/3] END ccp_alpha=0.3, min_samples_leaf=2, min_samples_split=10;, score=0.523 total time=  25.8s\n",
      "[CV 3/3] END ccp_alpha=0.3, min_samples_leaf=2, min_samples_split=10;, score=0.523 total time=  25.4s\n",
      "[CV 1/3] END ccp_alpha=0.3, min_samples_leaf=2, min_samples_split=20;, score=0.523 total time=  24.5s\n",
      "[CV 2/3] END ccp_alpha=0.3, min_samples_leaf=2, min_samples_split=20;, score=0.523 total time=  24.7s\n",
      "[CV 3/3] END ccp_alpha=0.3, min_samples_leaf=2, min_samples_split=20;, score=0.523 total time=  21.9s\n",
      "[CV 1/3] END ccp_alpha=0.3, min_samples_leaf=5, min_samples_split=2;, score=0.523 total time=  24.4s\n",
      "[CV 2/3] END ccp_alpha=0.3, min_samples_leaf=5, min_samples_split=2;, score=0.523 total time=  23.9s\n",
      "[CV 3/3] END ccp_alpha=0.3, min_samples_leaf=5, min_samples_split=2;, score=0.523 total time=  26.4s\n",
      "[CV 1/3] END ccp_alpha=0.3, min_samples_leaf=5, min_samples_split=5;, score=0.523 total time=  24.8s\n",
      "[CV 2/3] END ccp_alpha=0.3, min_samples_leaf=5, min_samples_split=5;, score=0.523 total time=  23.1s\n",
      "[CV 3/3] END ccp_alpha=0.3, min_samples_leaf=5, min_samples_split=5;, score=0.523 total time=  26.7s\n",
      "[CV 1/3] END ccp_alpha=0.3, min_samples_leaf=5, min_samples_split=10;, score=0.523 total time=  25.4s\n",
      "[CV 2/3] END ccp_alpha=0.3, min_samples_leaf=5, min_samples_split=10;, score=0.523 total time=  23.5s\n",
      "[CV 3/3] END ccp_alpha=0.3, min_samples_leaf=5, min_samples_split=10;, score=0.523 total time=  21.9s\n",
      "[CV 1/3] END ccp_alpha=0.3, min_samples_leaf=5, min_samples_split=20;, score=0.523 total time=  20.7s\n",
      "[CV 2/3] END ccp_alpha=0.3, min_samples_leaf=5, min_samples_split=20;, score=0.523 total time=  19.1s\n",
      "[CV 3/3] END ccp_alpha=0.3, min_samples_leaf=5, min_samples_split=20;, score=0.523 total time=  20.1s\n",
      "[CV 1/3] END ccp_alpha=0.3, min_samples_leaf=10, min_samples_split=2;, score=0.523 total time=  17.8s\n",
      "[CV 2/3] END ccp_alpha=0.3, min_samples_leaf=10, min_samples_split=2;, score=0.523 total time=  18.5s\n",
      "[CV 3/3] END ccp_alpha=0.3, min_samples_leaf=10, min_samples_split=2;, score=0.523 total time=  19.8s\n",
      "[CV 1/3] END ccp_alpha=0.3, min_samples_leaf=10, min_samples_split=5;, score=0.523 total time=  21.4s\n",
      "[CV 2/3] END ccp_alpha=0.3, min_samples_leaf=10, min_samples_split=5;, score=0.523 total time=  21.7s\n",
      "[CV 3/3] END ccp_alpha=0.3, min_samples_leaf=10, min_samples_split=5;, score=0.523 total time=  20.5s\n",
      "[CV 1/3] END ccp_alpha=0.3, min_samples_leaf=10, min_samples_split=10;, score=0.523 total time=  20.6s\n",
      "[CV 2/3] END ccp_alpha=0.3, min_samples_leaf=10, min_samples_split=10;, score=0.523 total time=  18.8s\n",
      "[CV 3/3] END ccp_alpha=0.3, min_samples_leaf=10, min_samples_split=10;, score=0.523 total time=  19.4s\n",
      "[CV 1/3] END ccp_alpha=0.3, min_samples_leaf=10, min_samples_split=20;, score=0.523 total time=  19.3s\n",
      "[CV 2/3] END ccp_alpha=0.3, min_samples_leaf=10, min_samples_split=20;, score=0.523 total time=  17.9s\n",
      "[CV 3/3] END ccp_alpha=0.3, min_samples_leaf=10, min_samples_split=20;, score=0.523 total time=  18.6s\n",
      "[CV 1/3] END ccp_alpha=0.3, min_samples_leaf=20, min_samples_split=2;, score=0.523 total time=  17.3s\n",
      "[CV 2/3] END ccp_alpha=0.3, min_samples_leaf=20, min_samples_split=2;, score=0.523 total time=  17.0s\n",
      "[CV 3/3] END ccp_alpha=0.3, min_samples_leaf=20, min_samples_split=2;, score=0.523 total time=  15.7s\n",
      "[CV 1/3] END ccp_alpha=0.3, min_samples_leaf=20, min_samples_split=5;, score=0.523 total time=  17.0s\n",
      "[CV 2/3] END ccp_alpha=0.3, min_samples_leaf=20, min_samples_split=5;, score=0.523 total time=  18.1s\n",
      "[CV 3/3] END ccp_alpha=0.3, min_samples_leaf=20, min_samples_split=5;, score=0.523 total time=  18.2s\n"
     ]
    },
    {
     "name": "stdout",
     "output_type": "stream",
     "text": [
      "[CV 1/3] END ccp_alpha=0.3, min_samples_leaf=20, min_samples_split=10;, score=0.523 total time=  16.3s\n",
      "[CV 2/3] END ccp_alpha=0.3, min_samples_leaf=20, min_samples_split=10;, score=0.523 total time=  15.0s\n",
      "[CV 3/3] END ccp_alpha=0.3, min_samples_leaf=20, min_samples_split=10;, score=0.523 total time=  17.9s\n",
      "[CV 1/3] END ccp_alpha=0.3, min_samples_leaf=20, min_samples_split=20;, score=0.523 total time=  16.1s\n",
      "[CV 2/3] END ccp_alpha=0.3, min_samples_leaf=20, min_samples_split=20;, score=0.523 total time=  14.9s\n",
      "[CV 3/3] END ccp_alpha=0.3, min_samples_leaf=20, min_samples_split=20;, score=0.523 total time=  18.4s\n",
      "[CV 1/3] END ccp_alpha=0.3, min_samples_leaf=100, min_samples_split=2;, score=0.523 total time=  12.0s\n",
      "[CV 2/3] END ccp_alpha=0.3, min_samples_leaf=100, min_samples_split=2;, score=0.523 total time=  11.0s\n",
      "[CV 3/3] END ccp_alpha=0.3, min_samples_leaf=100, min_samples_split=2;, score=0.523 total time=  11.0s\n",
      "[CV 1/3] END ccp_alpha=0.3, min_samples_leaf=100, min_samples_split=5;, score=0.523 total time=  11.2s\n",
      "[CV 2/3] END ccp_alpha=0.3, min_samples_leaf=100, min_samples_split=5;, score=0.523 total time=  11.2s\n",
      "[CV 3/3] END ccp_alpha=0.3, min_samples_leaf=100, min_samples_split=5;, score=0.523 total time=  10.8s\n",
      "[CV 1/3] END ccp_alpha=0.3, min_samples_leaf=100, min_samples_split=10;, score=0.523 total time=  12.4s\n",
      "[CV 2/3] END ccp_alpha=0.3, min_samples_leaf=100, min_samples_split=10;, score=0.523 total time=  11.0s\n",
      "[CV 3/3] END ccp_alpha=0.3, min_samples_leaf=100, min_samples_split=10;, score=0.523 total time=  12.3s\n",
      "[CV 1/3] END ccp_alpha=0.3, min_samples_leaf=100, min_samples_split=20;, score=0.523 total time=  11.3s\n",
      "[CV 2/3] END ccp_alpha=0.3, min_samples_leaf=100, min_samples_split=20;, score=0.523 total time=  11.0s\n",
      "[CV 3/3] END ccp_alpha=0.3, min_samples_leaf=100, min_samples_split=20;, score=0.523 total time=  10.6s\n"
     ]
    },
    {
     "data": {
      "text/html": [
       "<style>#sk-container-id-16 {color: black;}#sk-container-id-16 pre{padding: 0;}#sk-container-id-16 div.sk-toggleable {background-color: white;}#sk-container-id-16 label.sk-toggleable__label {cursor: pointer;display: block;width: 100%;margin-bottom: 0;padding: 0.3em;box-sizing: border-box;text-align: center;}#sk-container-id-16 label.sk-toggleable__label-arrow:before {content: \"▸\";float: left;margin-right: 0.25em;color: #696969;}#sk-container-id-16 label.sk-toggleable__label-arrow:hover:before {color: black;}#sk-container-id-16 div.sk-estimator:hover label.sk-toggleable__label-arrow:before {color: black;}#sk-container-id-16 div.sk-toggleable__content {max-height: 0;max-width: 0;overflow: hidden;text-align: left;background-color: #f0f8ff;}#sk-container-id-16 div.sk-toggleable__content pre {margin: 0.2em;color: black;border-radius: 0.25em;background-color: #f0f8ff;}#sk-container-id-16 input.sk-toggleable__control:checked~div.sk-toggleable__content {max-height: 200px;max-width: 100%;overflow: auto;}#sk-container-id-16 input.sk-toggleable__control:checked~label.sk-toggleable__label-arrow:before {content: \"▾\";}#sk-container-id-16 div.sk-estimator input.sk-toggleable__control:checked~label.sk-toggleable__label {background-color: #d4ebff;}#sk-container-id-16 div.sk-label input.sk-toggleable__control:checked~label.sk-toggleable__label {background-color: #d4ebff;}#sk-container-id-16 input.sk-hidden--visually {border: 0;clip: rect(1px 1px 1px 1px);clip: rect(1px, 1px, 1px, 1px);height: 1px;margin: -1px;overflow: hidden;padding: 0;position: absolute;width: 1px;}#sk-container-id-16 div.sk-estimator {font-family: monospace;background-color: #f0f8ff;border: 1px dotted black;border-radius: 0.25em;box-sizing: border-box;margin-bottom: 0.5em;}#sk-container-id-16 div.sk-estimator:hover {background-color: #d4ebff;}#sk-container-id-16 div.sk-parallel-item::after {content: \"\";width: 100%;border-bottom: 1px solid gray;flex-grow: 1;}#sk-container-id-16 div.sk-label:hover label.sk-toggleable__label {background-color: #d4ebff;}#sk-container-id-16 div.sk-serial::before {content: \"\";position: absolute;border-left: 1px solid gray;box-sizing: border-box;top: 0;bottom: 0;left: 50%;z-index: 0;}#sk-container-id-16 div.sk-serial {display: flex;flex-direction: column;align-items: center;background-color: white;padding-right: 0.2em;padding-left: 0.2em;position: relative;}#sk-container-id-16 div.sk-item {position: relative;z-index: 1;}#sk-container-id-16 div.sk-parallel {display: flex;align-items: stretch;justify-content: center;background-color: white;position: relative;}#sk-container-id-16 div.sk-item::before, #sk-container-id-16 div.sk-parallel-item::before {content: \"\";position: absolute;border-left: 1px solid gray;box-sizing: border-box;top: 0;bottom: 0;left: 50%;z-index: -1;}#sk-container-id-16 div.sk-parallel-item {display: flex;flex-direction: column;z-index: 1;position: relative;background-color: white;}#sk-container-id-16 div.sk-parallel-item:first-child::after {align-self: flex-end;width: 50%;}#sk-container-id-16 div.sk-parallel-item:last-child::after {align-self: flex-start;width: 50%;}#sk-container-id-16 div.sk-parallel-item:only-child::after {width: 0;}#sk-container-id-16 div.sk-dashed-wrapped {border: 1px dashed gray;margin: 0 0.4em 0.5em 0.4em;box-sizing: border-box;padding-bottom: 0.4em;background-color: white;}#sk-container-id-16 div.sk-label label {font-family: monospace;font-weight: bold;display: inline-block;line-height: 1.2em;}#sk-container-id-16 div.sk-label-container {text-align: center;}#sk-container-id-16 div.sk-container {/* jupyter's `normalize.less` sets `[hidden] { display: none; }` but bootstrap.min.css set `[hidden] { display: none !important; }` so we also need the `!important` here to be able to override the default hidden behavior on the sphinx rendered scikit-learn.org. See: https://github.com/scikit-learn/scikit-learn/issues/21755 */display: inline-block !important;position: relative;}#sk-container-id-16 div.sk-text-repr-fallback {display: none;}</style><div id=\"sk-container-id-16\" class=\"sk-top-container\"><div class=\"sk-text-repr-fallback\"><pre>GridSearchCV(cv=3, estimator=RandomForestClassifier(),\n",
       "             param_grid={&#x27;ccp_alpha&#x27;: array([0. , 0.1, 0.2, 0.3]),\n",
       "                         &#x27;min_samples_leaf&#x27;: [2, 5, 10, 20, 100],\n",
       "                         &#x27;min_samples_split&#x27;: [2, 5, 10, 20]},\n",
       "             scoring=&#x27;accuracy&#x27;, verbose=3)</pre><b>In a Jupyter environment, please rerun this cell to show the HTML representation or trust the notebook. <br />On GitHub, the HTML representation is unable to render, please try loading this page with nbviewer.org.</b></div><div class=\"sk-container\" hidden><div class=\"sk-item sk-dashed-wrapped\"><div class=\"sk-label-container\"><div class=\"sk-label sk-toggleable\"><input class=\"sk-toggleable__control sk-hidden--visually\" id=\"sk-estimator-id-18\" type=\"checkbox\" ><label for=\"sk-estimator-id-18\" class=\"sk-toggleable__label sk-toggleable__label-arrow\">GridSearchCV</label><div class=\"sk-toggleable__content\"><pre>GridSearchCV(cv=3, estimator=RandomForestClassifier(),\n",
       "             param_grid={&#x27;ccp_alpha&#x27;: array([0. , 0.1, 0.2, 0.3]),\n",
       "                         &#x27;min_samples_leaf&#x27;: [2, 5, 10, 20, 100],\n",
       "                         &#x27;min_samples_split&#x27;: [2, 5, 10, 20]},\n",
       "             scoring=&#x27;accuracy&#x27;, verbose=3)</pre></div></div></div><div class=\"sk-parallel\"><div class=\"sk-parallel-item\"><div class=\"sk-item\"><div class=\"sk-label-container\"><div class=\"sk-label sk-toggleable\"><input class=\"sk-toggleable__control sk-hidden--visually\" id=\"sk-estimator-id-19\" type=\"checkbox\" ><label for=\"sk-estimator-id-19\" class=\"sk-toggleable__label sk-toggleable__label-arrow\">estimator: RandomForestClassifier</label><div class=\"sk-toggleable__content\"><pre>RandomForestClassifier()</pre></div></div></div><div class=\"sk-serial\"><div class=\"sk-item\"><div class=\"sk-estimator sk-toggleable\"><input class=\"sk-toggleable__control sk-hidden--visually\" id=\"sk-estimator-id-20\" type=\"checkbox\" ><label for=\"sk-estimator-id-20\" class=\"sk-toggleable__label sk-toggleable__label-arrow\">RandomForestClassifier</label><div class=\"sk-toggleable__content\"><pre>RandomForestClassifier()</pre></div></div></div></div></div></div></div></div></div></div>"
      ],
      "text/plain": [
       "GridSearchCV(cv=3, estimator=RandomForestClassifier(),\n",
       "             param_grid={'ccp_alpha': array([0. , 0.1, 0.2, 0.3]),\n",
       "                         'min_samples_leaf': [2, 5, 10, 20, 100],\n",
       "                         'min_samples_split': [2, 5, 10, 20]},\n",
       "             scoring='accuracy', verbose=3)"
      ]
     },
     "execution_count": 438,
     "metadata": {},
     "output_type": "execute_result"
    }
   ],
   "source": [
    "params = {\n",
    "    \"min_samples_split\": [2, 5, 10, 20],\n",
    "    \"min_samples_leaf\": [2, 5, 10, 20, 100],\n",
    "    \"ccp_alpha\": np.linspace(0, 0.3, 4),\n",
    "}\n",
    "rf_grid = GridSearchCV(rf, params, scoring = \"accuracy\", cv = 3, verbose = 3)\n",
    "\n",
    "rf_grid.fit(train_X, train_y)"
   ]
  },
  {
   "cell_type": "code",
   "execution_count": 440,
   "id": "7d516924",
   "metadata": {},
   "outputs": [
    {
     "data": {
      "text/plain": [
       "0.705936656724897"
      ]
     },
     "execution_count": 440,
     "metadata": {},
     "output_type": "execute_result"
    }
   ],
   "source": [
    "rf_val_pred = rf_grid.predict(val_X)\n",
    "accuracy_score(val_y, rf_val_pred)"
   ]
  },
  {
   "cell_type": "code",
   "execution_count": 443,
   "id": "6a36b324",
   "metadata": {},
   "outputs": [
    {
     "data": {
      "text/plain": [
       "{'ccp_alpha': 0.0, 'min_samples_leaf': 2, 'min_samples_split': 5}"
      ]
     },
     "execution_count": 443,
     "metadata": {},
     "output_type": "execute_result"
    }
   ],
   "source": [
    "rf_grid.best_params_"
   ]
  },
  {
   "cell_type": "code",
   "execution_count": 156,
   "id": "8c1f38ef",
   "metadata": {},
   "outputs": [
    {
     "data": {
      "text/html": [
       "<style>#sk-container-id-3 {color: black;}#sk-container-id-3 pre{padding: 0;}#sk-container-id-3 div.sk-toggleable {background-color: white;}#sk-container-id-3 label.sk-toggleable__label {cursor: pointer;display: block;width: 100%;margin-bottom: 0;padding: 0.3em;box-sizing: border-box;text-align: center;}#sk-container-id-3 label.sk-toggleable__label-arrow:before {content: \"▸\";float: left;margin-right: 0.25em;color: #696969;}#sk-container-id-3 label.sk-toggleable__label-arrow:hover:before {color: black;}#sk-container-id-3 div.sk-estimator:hover label.sk-toggleable__label-arrow:before {color: black;}#sk-container-id-3 div.sk-toggleable__content {max-height: 0;max-width: 0;overflow: hidden;text-align: left;background-color: #f0f8ff;}#sk-container-id-3 div.sk-toggleable__content pre {margin: 0.2em;color: black;border-radius: 0.25em;background-color: #f0f8ff;}#sk-container-id-3 input.sk-toggleable__control:checked~div.sk-toggleable__content {max-height: 200px;max-width: 100%;overflow: auto;}#sk-container-id-3 input.sk-toggleable__control:checked~label.sk-toggleable__label-arrow:before {content: \"▾\";}#sk-container-id-3 div.sk-estimator input.sk-toggleable__control:checked~label.sk-toggleable__label {background-color: #d4ebff;}#sk-container-id-3 div.sk-label input.sk-toggleable__control:checked~label.sk-toggleable__label {background-color: #d4ebff;}#sk-container-id-3 input.sk-hidden--visually {border: 0;clip: rect(1px 1px 1px 1px);clip: rect(1px, 1px, 1px, 1px);height: 1px;margin: -1px;overflow: hidden;padding: 0;position: absolute;width: 1px;}#sk-container-id-3 div.sk-estimator {font-family: monospace;background-color: #f0f8ff;border: 1px dotted black;border-radius: 0.25em;box-sizing: border-box;margin-bottom: 0.5em;}#sk-container-id-3 div.sk-estimator:hover {background-color: #d4ebff;}#sk-container-id-3 div.sk-parallel-item::after {content: \"\";width: 100%;border-bottom: 1px solid gray;flex-grow: 1;}#sk-container-id-3 div.sk-label:hover label.sk-toggleable__label {background-color: #d4ebff;}#sk-container-id-3 div.sk-serial::before {content: \"\";position: absolute;border-left: 1px solid gray;box-sizing: border-box;top: 0;bottom: 0;left: 50%;z-index: 0;}#sk-container-id-3 div.sk-serial {display: flex;flex-direction: column;align-items: center;background-color: white;padding-right: 0.2em;padding-left: 0.2em;position: relative;}#sk-container-id-3 div.sk-item {position: relative;z-index: 1;}#sk-container-id-3 div.sk-parallel {display: flex;align-items: stretch;justify-content: center;background-color: white;position: relative;}#sk-container-id-3 div.sk-item::before, #sk-container-id-3 div.sk-parallel-item::before {content: \"\";position: absolute;border-left: 1px solid gray;box-sizing: border-box;top: 0;bottom: 0;left: 50%;z-index: -1;}#sk-container-id-3 div.sk-parallel-item {display: flex;flex-direction: column;z-index: 1;position: relative;background-color: white;}#sk-container-id-3 div.sk-parallel-item:first-child::after {align-self: flex-end;width: 50%;}#sk-container-id-3 div.sk-parallel-item:last-child::after {align-self: flex-start;width: 50%;}#sk-container-id-3 div.sk-parallel-item:only-child::after {width: 0;}#sk-container-id-3 div.sk-dashed-wrapped {border: 1px dashed gray;margin: 0 0.4em 0.5em 0.4em;box-sizing: border-box;padding-bottom: 0.4em;background-color: white;}#sk-container-id-3 div.sk-label label {font-family: monospace;font-weight: bold;display: inline-block;line-height: 1.2em;}#sk-container-id-3 div.sk-label-container {text-align: center;}#sk-container-id-3 div.sk-container {/* jupyter's `normalize.less` sets `[hidden] { display: none; }` but bootstrap.min.css set `[hidden] { display: none !important; }` so we also need the `!important` here to be able to override the default hidden behavior on the sphinx rendered scikit-learn.org. See: https://github.com/scikit-learn/scikit-learn/issues/21755 */display: inline-block !important;position: relative;}#sk-container-id-3 div.sk-text-repr-fallback {display: none;}</style><div id=\"sk-container-id-3\" class=\"sk-top-container\"><div class=\"sk-text-repr-fallback\"><pre>GradientBoostingClassifier()</pre><b>In a Jupyter environment, please rerun this cell to show the HTML representation or trust the notebook. <br />On GitHub, the HTML representation is unable to render, please try loading this page with nbviewer.org.</b></div><div class=\"sk-container\" hidden><div class=\"sk-item\"><div class=\"sk-estimator sk-toggleable\"><input class=\"sk-toggleable__control sk-hidden--visually\" id=\"sk-estimator-id-3\" type=\"checkbox\" checked><label for=\"sk-estimator-id-3\" class=\"sk-toggleable__label sk-toggleable__label-arrow\">GradientBoostingClassifier</label><div class=\"sk-toggleable__content\"><pre>GradientBoostingClassifier()</pre></div></div></div></div></div>"
      ],
      "text/plain": [
       "GradientBoostingClassifier()"
      ]
     },
     "execution_count": 156,
     "metadata": {},
     "output_type": "execute_result"
    }
   ],
   "source": [
    "gb = GradientBoostingClassifier(verbose = True)\n",
    "gb.fit(train_X, train_y)"
   ]
  },
  {
   "cell_type": "code",
   "execution_count": 157,
   "id": "2acb8751",
   "metadata": {
    "scrolled": true
   },
   "outputs": [],
   "source": [
    "# params = {\n",
    "#     \"min_samples_split\": [2, 5, 10, 20],\n",
    "#     \"min_samples_leaf\": [2, 5, 10, 20, 100],\n",
    "#     \"max_depth\": [1, 3, 5],\n",
    "#     \"min_impurity_decrease\": np.linspace(0, 0.2, 3),\n",
    "#     \"ccp_alpha\": np.linspace(0, 0.2, 3)\n",
    "# }\n",
    "# gb_grid = GridSearchCV(gb, params, scoring = \"accuracy\", cv = 3, verbose = 3)\n",
    "\n",
    "# gb_grid.fit(train_X, train_y)"
   ]
  },
  {
   "cell_type": "code",
   "execution_count": 159,
   "id": "6fa8f271",
   "metadata": {},
   "outputs": [
    {
     "data": {
      "text/plain": [
       "0.6803721062349098"
      ]
     },
     "execution_count": 159,
     "metadata": {},
     "output_type": "execute_result"
    }
   ],
   "source": [
    "gb_val_pred = gb.predict(val_X)\n",
    "accuracy_score(val_y, gb_val_pred)"
   ]
  },
  {
   "cell_type": "code",
   "execution_count": 34,
   "id": "ecb4464d",
   "metadata": {},
   "outputs": [
    {
     "name": "stdout",
     "output_type": "stream",
     "text": [
      "[LibSVM]"
     ]
    },
    {
     "data": {
      "text/html": [
       "<style>#sk-container-id-9 {color: black;}#sk-container-id-9 pre{padding: 0;}#sk-container-id-9 div.sk-toggleable {background-color: white;}#sk-container-id-9 label.sk-toggleable__label {cursor: pointer;display: block;width: 100%;margin-bottom: 0;padding: 0.3em;box-sizing: border-box;text-align: center;}#sk-container-id-9 label.sk-toggleable__label-arrow:before {content: \"▸\";float: left;margin-right: 0.25em;color: #696969;}#sk-container-id-9 label.sk-toggleable__label-arrow:hover:before {color: black;}#sk-container-id-9 div.sk-estimator:hover label.sk-toggleable__label-arrow:before {color: black;}#sk-container-id-9 div.sk-toggleable__content {max-height: 0;max-width: 0;overflow: hidden;text-align: left;background-color: #f0f8ff;}#sk-container-id-9 div.sk-toggleable__content pre {margin: 0.2em;color: black;border-radius: 0.25em;background-color: #f0f8ff;}#sk-container-id-9 input.sk-toggleable__control:checked~div.sk-toggleable__content {max-height: 200px;max-width: 100%;overflow: auto;}#sk-container-id-9 input.sk-toggleable__control:checked~label.sk-toggleable__label-arrow:before {content: \"▾\";}#sk-container-id-9 div.sk-estimator input.sk-toggleable__control:checked~label.sk-toggleable__label {background-color: #d4ebff;}#sk-container-id-9 div.sk-label input.sk-toggleable__control:checked~label.sk-toggleable__label {background-color: #d4ebff;}#sk-container-id-9 input.sk-hidden--visually {border: 0;clip: rect(1px 1px 1px 1px);clip: rect(1px, 1px, 1px, 1px);height: 1px;margin: -1px;overflow: hidden;padding: 0;position: absolute;width: 1px;}#sk-container-id-9 div.sk-estimator {font-family: monospace;background-color: #f0f8ff;border: 1px dotted black;border-radius: 0.25em;box-sizing: border-box;margin-bottom: 0.5em;}#sk-container-id-9 div.sk-estimator:hover {background-color: #d4ebff;}#sk-container-id-9 div.sk-parallel-item::after {content: \"\";width: 100%;border-bottom: 1px solid gray;flex-grow: 1;}#sk-container-id-9 div.sk-label:hover label.sk-toggleable__label {background-color: #d4ebff;}#sk-container-id-9 div.sk-serial::before {content: \"\";position: absolute;border-left: 1px solid gray;box-sizing: border-box;top: 0;bottom: 0;left: 50%;z-index: 0;}#sk-container-id-9 div.sk-serial {display: flex;flex-direction: column;align-items: center;background-color: white;padding-right: 0.2em;padding-left: 0.2em;position: relative;}#sk-container-id-9 div.sk-item {position: relative;z-index: 1;}#sk-container-id-9 div.sk-parallel {display: flex;align-items: stretch;justify-content: center;background-color: white;position: relative;}#sk-container-id-9 div.sk-item::before, #sk-container-id-9 div.sk-parallel-item::before {content: \"\";position: absolute;border-left: 1px solid gray;box-sizing: border-box;top: 0;bottom: 0;left: 50%;z-index: -1;}#sk-container-id-9 div.sk-parallel-item {display: flex;flex-direction: column;z-index: 1;position: relative;background-color: white;}#sk-container-id-9 div.sk-parallel-item:first-child::after {align-self: flex-end;width: 50%;}#sk-container-id-9 div.sk-parallel-item:last-child::after {align-self: flex-start;width: 50%;}#sk-container-id-9 div.sk-parallel-item:only-child::after {width: 0;}#sk-container-id-9 div.sk-dashed-wrapped {border: 1px dashed gray;margin: 0 0.4em 0.5em 0.4em;box-sizing: border-box;padding-bottom: 0.4em;background-color: white;}#sk-container-id-9 div.sk-label label {font-family: monospace;font-weight: bold;display: inline-block;line-height: 1.2em;}#sk-container-id-9 div.sk-label-container {text-align: center;}#sk-container-id-9 div.sk-container {/* jupyter's `normalize.less` sets `[hidden] { display: none; }` but bootstrap.min.css set `[hidden] { display: none !important; }` so we also need the `!important` here to be able to override the default hidden behavior on the sphinx rendered scikit-learn.org. See: https://github.com/scikit-learn/scikit-learn/issues/21755 */display: inline-block !important;position: relative;}#sk-container-id-9 div.sk-text-repr-fallback {display: none;}</style><div id=\"sk-container-id-9\" class=\"sk-top-container\"><div class=\"sk-text-repr-fallback\"><pre>SVC(kernel=&#x27;poly&#x27;, probability=True, tol=0.0001, verbose=2)</pre><b>In a Jupyter environment, please rerun this cell to show the HTML representation or trust the notebook. <br />On GitHub, the HTML representation is unable to render, please try loading this page with nbviewer.org.</b></div><div class=\"sk-container\" hidden><div class=\"sk-item\"><div class=\"sk-estimator sk-toggleable\"><input class=\"sk-toggleable__control sk-hidden--visually\" id=\"sk-estimator-id-9\" type=\"checkbox\" checked><label for=\"sk-estimator-id-9\" class=\"sk-toggleable__label sk-toggleable__label-arrow\">SVC</label><div class=\"sk-toggleable__content\"><pre>SVC(kernel=&#x27;poly&#x27;, probability=True, tol=0.0001, verbose=2)</pre></div></div></div></div></div>"
      ],
      "text/plain": [
       "SVC(kernel='poly', probability=True, tol=0.0001, verbose=2)"
      ]
     },
     "execution_count": 34,
     "metadata": {},
     "output_type": "execute_result"
    }
   ],
   "source": [
    "svm = SVC(probability = True, verbose = 2, kernel = \"poly\",\n",
    "         max_iter = -1, tol = 1e-4)\n",
    "svm.fit(train_X, train_y)"
   ]
  },
  {
   "cell_type": "code",
   "execution_count": 35,
   "id": "81321943",
   "metadata": {},
   "outputs": [
    {
     "data": {
      "text/plain": [
       "0.6626189461724187"
      ]
     },
     "execution_count": 35,
     "metadata": {},
     "output_type": "execute_result"
    }
   ],
   "source": [
    "svm_val_pred = svm.predict(val_X)\n",
    "accuracy_score(val_y, svm_val_pred)"
   ]
  },
  {
   "cell_type": "code",
   "execution_count": 129,
   "id": "d2a69d74",
   "metadata": {},
   "outputs": [
    {
     "data": {
      "text/html": [
       "<style>#sk-container-id-2 {color: black;}#sk-container-id-2 pre{padding: 0;}#sk-container-id-2 div.sk-toggleable {background-color: white;}#sk-container-id-2 label.sk-toggleable__label {cursor: pointer;display: block;width: 100%;margin-bottom: 0;padding: 0.3em;box-sizing: border-box;text-align: center;}#sk-container-id-2 label.sk-toggleable__label-arrow:before {content: \"▸\";float: left;margin-right: 0.25em;color: #696969;}#sk-container-id-2 label.sk-toggleable__label-arrow:hover:before {color: black;}#sk-container-id-2 div.sk-estimator:hover label.sk-toggleable__label-arrow:before {color: black;}#sk-container-id-2 div.sk-toggleable__content {max-height: 0;max-width: 0;overflow: hidden;text-align: left;background-color: #f0f8ff;}#sk-container-id-2 div.sk-toggleable__content pre {margin: 0.2em;color: black;border-radius: 0.25em;background-color: #f0f8ff;}#sk-container-id-2 input.sk-toggleable__control:checked~div.sk-toggleable__content {max-height: 200px;max-width: 100%;overflow: auto;}#sk-container-id-2 input.sk-toggleable__control:checked~label.sk-toggleable__label-arrow:before {content: \"▾\";}#sk-container-id-2 div.sk-estimator input.sk-toggleable__control:checked~label.sk-toggleable__label {background-color: #d4ebff;}#sk-container-id-2 div.sk-label input.sk-toggleable__control:checked~label.sk-toggleable__label {background-color: #d4ebff;}#sk-container-id-2 input.sk-hidden--visually {border: 0;clip: rect(1px 1px 1px 1px);clip: rect(1px, 1px, 1px, 1px);height: 1px;margin: -1px;overflow: hidden;padding: 0;position: absolute;width: 1px;}#sk-container-id-2 div.sk-estimator {font-family: monospace;background-color: #f0f8ff;border: 1px dotted black;border-radius: 0.25em;box-sizing: border-box;margin-bottom: 0.5em;}#sk-container-id-2 div.sk-estimator:hover {background-color: #d4ebff;}#sk-container-id-2 div.sk-parallel-item::after {content: \"\";width: 100%;border-bottom: 1px solid gray;flex-grow: 1;}#sk-container-id-2 div.sk-label:hover label.sk-toggleable__label {background-color: #d4ebff;}#sk-container-id-2 div.sk-serial::before {content: \"\";position: absolute;border-left: 1px solid gray;box-sizing: border-box;top: 0;bottom: 0;left: 50%;z-index: 0;}#sk-container-id-2 div.sk-serial {display: flex;flex-direction: column;align-items: center;background-color: white;padding-right: 0.2em;padding-left: 0.2em;position: relative;}#sk-container-id-2 div.sk-item {position: relative;z-index: 1;}#sk-container-id-2 div.sk-parallel {display: flex;align-items: stretch;justify-content: center;background-color: white;position: relative;}#sk-container-id-2 div.sk-item::before, #sk-container-id-2 div.sk-parallel-item::before {content: \"\";position: absolute;border-left: 1px solid gray;box-sizing: border-box;top: 0;bottom: 0;left: 50%;z-index: -1;}#sk-container-id-2 div.sk-parallel-item {display: flex;flex-direction: column;z-index: 1;position: relative;background-color: white;}#sk-container-id-2 div.sk-parallel-item:first-child::after {align-self: flex-end;width: 50%;}#sk-container-id-2 div.sk-parallel-item:last-child::after {align-self: flex-start;width: 50%;}#sk-container-id-2 div.sk-parallel-item:only-child::after {width: 0;}#sk-container-id-2 div.sk-dashed-wrapped {border: 1px dashed gray;margin: 0 0.4em 0.5em 0.4em;box-sizing: border-box;padding-bottom: 0.4em;background-color: white;}#sk-container-id-2 div.sk-label label {font-family: monospace;font-weight: bold;display: inline-block;line-height: 1.2em;}#sk-container-id-2 div.sk-label-container {text-align: center;}#sk-container-id-2 div.sk-container {/* jupyter's `normalize.less` sets `[hidden] { display: none; }` but bootstrap.min.css set `[hidden] { display: none !important; }` so we also need the `!important` here to be able to override the default hidden behavior on the sphinx rendered scikit-learn.org. See: https://github.com/scikit-learn/scikit-learn/issues/21755 */display: inline-block !important;position: relative;}#sk-container-id-2 div.sk-text-repr-fallback {display: none;}</style><div id=\"sk-container-id-2\" class=\"sk-top-container\"><div class=\"sk-text-repr-fallback\"><pre>BernoulliNB()</pre><b>In a Jupyter environment, please rerun this cell to show the HTML representation or trust the notebook. <br />On GitHub, the HTML representation is unable to render, please try loading this page with nbviewer.org.</b></div><div class=\"sk-container\" hidden><div class=\"sk-item\"><div class=\"sk-estimator sk-toggleable\"><input class=\"sk-toggleable__control sk-hidden--visually\" id=\"sk-estimator-id-2\" type=\"checkbox\" checked><label for=\"sk-estimator-id-2\" class=\"sk-toggleable__label sk-toggleable__label-arrow\">BernoulliNB</label><div class=\"sk-toggleable__content\"><pre>BernoulliNB()</pre></div></div></div></div></div>"
      ],
      "text/plain": [
       "BernoulliNB()"
      ]
     },
     "execution_count": 129,
     "metadata": {},
     "output_type": "execute_result"
    }
   ],
   "source": [
    "from sklearn.naive_bayes import MultinomialNB, GaussianNB, CategoricalNB, BernoulliNB\n",
    "nb = BernoulliNB()\n",
    "nb.fit(train_X, train_y)\n",
    "# ?GaussianNB"
   ]
  },
  {
   "cell_type": "code",
   "execution_count": 130,
   "id": "46d5c429",
   "metadata": {},
   "outputs": [
    {
     "data": {
      "text/plain": [
       "0.602116176679449"
      ]
     },
     "execution_count": 130,
     "metadata": {},
     "output_type": "execute_result"
    }
   ],
   "source": [
    "nb_val_pred = nb.predict(val_X)\n",
    "accuracy_score(val_y, nb_val_pred)"
   ]
  },
  {
   "cell_type": "code",
   "execution_count": 441,
   "id": "90234314",
   "metadata": {},
   "outputs": [],
   "source": [
    "models = [stack, gb, svm]\n",
    "with open(r'variables/models.pkl', 'wb') as save_data:\n",
    "    pickle.dump(models, save_data) "
   ]
  },
  {
   "cell_type": "code",
   "execution_count": 24,
   "id": "38c42e1d",
   "metadata": {},
   "outputs": [],
   "source": [
    "file = open(r'variables/models.pkl', 'rb')\n",
    "models = pickle.load(file) "
   ]
  },
  {
   "cell_type": "markdown",
   "id": "7fa76983",
   "metadata": {},
   "source": [
    "### prepare for the ensemble dataset"
   ]
  },
  {
   "cell_type": "code",
   "execution_count": 25,
   "id": "33fde941",
   "metadata": {},
   "outputs": [],
   "source": [
    "from sklearn.base import clone\n",
    "from sklearn.model_selection import KFold"
   ]
  },
  {
   "cell_type": "code",
   "execution_count": 26,
   "id": "900eb652",
   "metadata": {},
   "outputs": [],
   "source": [
    "rf, gb, svm = models[0], models[1], models[2]"
   ]
  },
  {
   "cell_type": "code",
   "execution_count": null,
   "id": "0abfb1ee",
   "metadata": {},
   "outputs": [],
   "source": [
    "rf_train_prob = rf.predict_proba(train_X)\n",
    "gb_train_prob = gb.predict_proba(train_X)\n",
    "svm_train_prob = svm.predict_proba(train_X)"
   ]
  },
  {
   "cell_type": "code",
   "execution_count": 131,
   "id": "2b015ed4",
   "metadata": {},
   "outputs": [],
   "source": [
    "nb_train_prob = nb.predict_proba(train_X)"
   ]
  },
  {
   "cell_type": "code",
   "execution_count": 28,
   "id": "bc888001",
   "metadata": {},
   "outputs": [],
   "source": [
    "nn_train_prob = nn_result[0][0]"
   ]
  },
  {
   "cell_type": "code",
   "execution_count": 685,
   "id": "fe9bebd2",
   "metadata": {},
   "outputs": [],
   "source": [
    "train_meta = np.concatenate([\n",
    "    rf_train_prob, \n",
    "    gb_train_prob, \n",
    "    svm_train_prob, \n",
    "    nb_train_prob,\n",
    "    nn_train_prob\n",
    "                            ], axis = 1)"
   ]
  },
  {
   "cell_type": "code",
   "execution_count": 161,
   "id": "3171c894",
   "metadata": {},
   "outputs": [
    {
     "data": {
      "text/plain": [
       "(65714, 12)"
      ]
     },
     "execution_count": 161,
     "metadata": {},
     "output_type": "execute_result"
    }
   ],
   "source": [
    "train_meta.shape"
   ]
  },
  {
   "cell_type": "code",
   "execution_count": 162,
   "id": "46f7a7c9",
   "metadata": {},
   "outputs": [],
   "source": [
    "rf_val_prob = rf.predict_proba(val_X)\n",
    "gb_val_prob = gb.predict_proba(val_X)\n",
    "svm_val_prob = svm.predict_proba(val_X)"
   ]
  },
  {
   "cell_type": "code",
   "execution_count": 163,
   "id": "3b15a763",
   "metadata": {},
   "outputs": [],
   "source": [
    "nb_val_prob = nb.predict_proba(val_X)"
   ]
  },
  {
   "cell_type": "code",
   "execution_count": 32,
   "id": "000904f6",
   "metadata": {},
   "outputs": [],
   "source": [
    "file = open(r'variables/nn_proba.pkl', 'rb')\n",
    "nn_proba = pickle.load(file)"
   ]
  },
  {
   "cell_type": "code",
   "execution_count": 33,
   "id": "fcff3450",
   "metadata": {},
   "outputs": [],
   "source": [
    "nn_val_prob = nn_proba[1]"
   ]
  },
  {
   "cell_type": "code",
   "execution_count": 686,
   "id": "96116efc",
   "metadata": {},
   "outputs": [],
   "source": [
    "val_meta = np.concatenate([\n",
    "    rf_val_prob, \n",
    "    gb_val_prob, \n",
    "    svm_val_prob, \n",
    "    nb_val_prob,\n",
    "    nn_val_prob\n",
    "], axis = 1)"
   ]
  },
  {
   "cell_type": "code",
   "execution_count": 35,
   "id": "7b257fcd",
   "metadata": {},
   "outputs": [],
   "source": [
    "from sklearn.ensemble import RandomForestClassifier, VotingClassifier, BaggingClassifier"
   ]
  },
  {
   "cell_type": "code",
   "execution_count": 36,
   "id": "4d5c1001",
   "metadata": {},
   "outputs": [],
   "source": [
    "rf_train_pred = rf_train_prob.argmax(axis = 1)\n",
    "gb_train_pred = gb_train_prob.argmax(axis = 1)\n",
    "svm_train_pred = svm_train_prob.argmax(axis = 1)\n",
    "nn_train_pred = nn_train_prob.argmax(axis = 1)\n",
    "\n",
    "rf_val_pred = rf_val_prob.argmax(axis = 1)\n",
    "gb_val_pred = gb_val_prob.argmax(axis = 1)\n",
    "svm_val_pred = svm_val_prob.argmax(axis = 1)\n",
    "nn_val_pred = nn_val_prob.argmax(axis = 1)"
   ]
  },
  {
   "cell_type": "code",
   "execution_count": 94,
   "id": "240ae936",
   "metadata": {},
   "outputs": [],
   "source": [
    "train_meta_vote = np.array([rf_train_pred, gb_train_pred, svm_train_pred, nn_train_pred]).T\n",
    "val_meta_vote = np.array([rf_val_pred, gb_val_pred, svm_val_pred, nn_val_pred]).T"
   ]
  },
  {
   "cell_type": "code",
   "execution_count": 121,
   "id": "10b65ca5",
   "metadata": {},
   "outputs": [],
   "source": [
    "from scipy import stats"
   ]
  },
  {
   "cell_type": "code",
   "execution_count": 128,
   "id": "389bfd57",
   "metadata": {
    "scrolled": true
   },
   "outputs": [],
   "source": [
    "meta = RandomForestClassifier()"
   ]
  },
  {
   "cell_type": "code",
   "execution_count": 131,
   "id": "0da83d12",
   "metadata": {},
   "outputs": [],
   "source": [
    "params = {\n",
    "    \"min_samples_split\": [2, 5, 10],\n",
    "    \"min_samples_leaf\": [5, 10, 20, 100],\n",
    "    \"ccp_alpha\": np.linspace(0, 1, 11),\n",
    "}\n",
    "stack = GridSearchCV(meta, params, scoring = \"accuracy\", cv = 3, verbose = 2)\n",
    "\n",
    "stack.fit(train_meta, train_y)"
   ]
  },
  {
   "cell_type": "code",
   "execution_count": 137,
   "id": "80917b54",
   "metadata": {},
   "outputs": [
    {
     "data": {
      "text/plain": [
       "1.0"
      ]
     },
     "execution_count": 137,
     "metadata": {},
     "output_type": "execute_result"
    }
   ],
   "source": [
    "train_meta_pred = stack.best_estimator_.predict(train_meta)\n",
    "accuracy_score(train_y, train_meta_pred)"
   ]
  },
  {
   "cell_type": "code",
   "execution_count": 139,
   "id": "b80d34f0",
   "metadata": {
    "scrolled": true
   },
   "outputs": [
    {
     "data": {
      "text/plain": [
       "{'ccp_alpha': 0.0, 'min_samples_leaf': 5, 'min_samples_split': 2}"
      ]
     },
     "execution_count": 139,
     "metadata": {},
     "output_type": "execute_result"
    }
   ],
   "source": [
    "stack.best_params_"
   ]
  },
  {
   "cell_type": "code",
   "execution_count": 138,
   "id": "6fea8aed",
   "metadata": {},
   "outputs": [
    {
     "data": {
      "text/plain": [
       "0.6714955262036643"
      ]
     },
     "execution_count": 138,
     "metadata": {},
     "output_type": "execute_result"
    }
   ],
   "source": [
    "val_meta_pred = stack.best_estimator_.predict(val_meta)\n",
    "accuracy_score(val_y, val_meta_pred)"
   ]
  },
  {
   "cell_type": "code",
   "execution_count": 133,
   "id": "13d7272c",
   "metadata": {},
   "outputs": [],
   "source": [
    "val_meta_pred = stack.predict(val_meta)"
   ]
  },
  {
   "cell_type": "code",
   "execution_count": 134,
   "id": "52b81ab4",
   "metadata": {},
   "outputs": [
    {
     "data": {
      "text/plain": [
       "0.6714955262036643"
      ]
     },
     "execution_count": 134,
     "metadata": {},
     "output_type": "execute_result"
    }
   ],
   "source": [
    "accuracy_score(val_y, val_meta_pred)"
   ]
  },
  {
   "cell_type": "code",
   "execution_count": 37,
   "id": "9f883331",
   "metadata": {},
   "outputs": [],
   "source": [
    "from keras import layers, Sequential, Model, models, Input\n",
    "import keras\n",
    "from keras import optimizers"
   ]
  },
  {
   "cell_type": "code",
   "execution_count": 38,
   "id": "f1f91052",
   "metadata": {},
   "outputs": [
    {
     "data": {
      "text/plain": [
       "(14082, 16)"
      ]
     },
     "execution_count": 38,
     "metadata": {},
     "output_type": "execute_result"
    }
   ],
   "source": [
    "val_meta.shape"
   ]
  },
  {
   "cell_type": "code",
   "execution_count": 39,
   "id": "1620a159",
   "metadata": {},
   "outputs": [],
   "source": [
    "def vector_to_array(vec):\n",
    "    res = np.zeros((vec.shape[0], 4))\n",
    "    for row in range(vec.shape[0]):\n",
    "        res[row, vec[row]] = 1\n",
    "    return res"
   ]
  },
  {
   "cell_type": "code",
   "execution_count": 40,
   "id": "e49170fc",
   "metadata": {},
   "outputs": [],
   "source": [
    "train_nn_y = vector_to_array(train_y)\n",
    "val_nn_y = vector_to_array(val_y)"
   ]
  },
  {
   "cell_type": "code",
   "execution_count": 41,
   "id": "5d28d22e",
   "metadata": {},
   "outputs": [],
   "source": [
    "from keras.callbacks import LearningRateScheduler"
   ]
  },
  {
   "cell_type": "code",
   "execution_count": 413,
   "id": "c8636eeb",
   "metadata": {},
   "outputs": [],
   "source": [
    "monitor = [\n",
    "    keras.callbacks.EarlyStopping(\n",
    "        monitor = 'val_accuracy',\n",
    "        patience = 3,\n",
    "    ),\n",
    "    keras.callbacks.ModelCheckpoint(\n",
    "        filepath = 'models/music_classification_stack.h5',\n",
    "        monitor = 'val_accuracy',\n",
    "        save_best_only = True,\n",
    "    ),\n",
    "    keras.callbacks.LearningRateScheduler(lr_time_decay)\n",
    "]"
   ]
  },
  {
   "cell_type": "code",
   "execution_count": 687,
   "id": "93d92b9f",
   "metadata": {},
   "outputs": [],
   "source": [
    "def lr_time_decay(epoch, lr):\n",
    "    decay_rate = 0.8\n",
    "    new_lr = init_lr / (1 + decay_rate * epoch)\n",
    "    return new_lr"
   ]
  },
  {
   "cell_type": "code",
   "execution_count": 706,
   "id": "95c9aa83",
   "metadata": {},
   "outputs": [],
   "source": [
    "stack_input = Input(shape = 20, dtype = \"float64\", name = \"input\")\n",
    "dense = layers.Dense(32, activation = \"exponential\")(stack_input)\n",
    "# dense = layers.Dense(128, activation = \"relu\")(dense)\n",
    "dense = layers.Dropout(0.8)(dense)\n",
    "# dense = layers.Dropout(0.5)(dense)\n",
    "# dense = layers.Dense(256, activation = \"relu\")(dense)\n",
    "# dense = layers.Dropout(0.5)(dense)\n",
    "# dense = layers.Dense(512, activation = \"relu\")(dense)\n",
    "# dense = layers.Dropout(0.5)(dense)\n",
    "# dense = layers.Dense(512, activation = \"relu\")(dense)\n",
    "# dense = layers.Dense(128, activation = \"relu\")(dense)\n",
    "# dense = layers.Dropout(0.5)(dense)\n",
    "# dense = layers.Dense(32, activation = \"exponential\")(dense)\n",
    "# dense = layers.Dropout(0.5)(dense)\n",
    "# dense = layers.Dense(16, activation = \"exponential\")(dense)\n",
    "# dense = layers.Dropout(0.5)(dense)\n",
    "stack_output = layers.Dense(4, activation = \"softmax\")(dense)\n",
    "\n",
    "model = Model(stack_input, stack_output)"
   ]
  },
  {
   "cell_type": "code",
   "execution_count": 707,
   "id": "40b564e4",
   "metadata": {},
   "outputs": [],
   "source": [
    "init_lr = 0.01\n",
    "optimizer = keras.optimizers.RMSprop(learning_rate = init_lr)\n",
    "model.compile(loss = \"categorical_crossentropy\", optimizer = optimizer, metrics = [\"accuracy\"])"
   ]
  },
  {
   "cell_type": "code",
   "execution_count": 708,
   "id": "c5a717a2",
   "metadata": {},
   "outputs": [],
   "source": [
    "from sklearn.utils import class_weight\n",
    "class_weights = class_weight.compute_class_weight('balanced', classes = np.unique(train_y), y = train_y)"
   ]
  },
  {
   "cell_type": "code",
   "execution_count": 709,
   "id": "110e1c4f",
   "metadata": {},
   "outputs": [],
   "source": [
    "weight = {\n",
    "    0: class_weights[0],\n",
    "    1: class_weights[1],\n",
    "    2: class_weights[2],\n",
    "    3: class_weights[3]\n",
    "}"
   ]
  },
  {
   "cell_type": "code",
   "execution_count": 710,
   "id": "95b80433",
   "metadata": {
    "scrolled": true
   },
   "outputs": [
    {
     "name": "stdout",
     "output_type": "stream",
     "text": [
      "Epoch 1/100\n",
      "1027/1027 [==============================] - 2s 2ms/step - loss: 0.4653 - accuracy: 0.7924 - val_loss: 1.3687 - val_accuracy: 0.7120 - lr: 0.0100\n",
      "Epoch 2/100\n",
      "1027/1027 [==============================] - 2s 2ms/step - loss: 0.2074 - accuracy: 0.8991 - val_loss: 1.9974 - val_accuracy: 0.7103 - lr: 0.0056\n",
      "Epoch 3/100\n",
      "1027/1027 [==============================] - 2s 2ms/step - loss: 0.1759 - accuracy: 0.9126 - val_loss: 2.5195 - val_accuracy: 0.7084 - lr: 0.0038\n",
      "Epoch 4/100\n",
      "1027/1027 [==============================] - 2s 2ms/step - loss: 0.1572 - accuracy: 0.9211 - val_loss: 2.9718 - val_accuracy: 0.7091 - lr: 0.0029\n"
     ]
    }
   ],
   "source": [
    "history = model.fit(train_meta, train_nn_y, \n",
    "          batch_size = 64, epochs = 100, \n",
    "          validation_data = (val_meta, val_nn_y), callbacks = monitor)"
   ]
  },
  {
   "cell_type": "code",
   "execution_count": null,
   "id": "753e5ea9",
   "metadata": {},
   "outputs": [],
   "source": []
  }
 ],
 "metadata": {
  "kernelspec": {
   "display_name": "Python 3 (ipykernel)",
   "language": "python",
   "name": "python3"
  },
  "language_info": {
   "codemirror_mode": {
    "name": "ipython",
    "version": 3
   },
   "file_extension": ".py",
   "mimetype": "text/x-python",
   "name": "python",
   "nbconvert_exporter": "python",
   "pygments_lexer": "ipython3",
   "version": "3.11.4"
  }
 },
 "nbformat": 4,
 "nbformat_minor": 5
}
