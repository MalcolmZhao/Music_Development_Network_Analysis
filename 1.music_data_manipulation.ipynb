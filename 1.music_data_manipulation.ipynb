{
 "cells": [
  {
   "cell_type": "code",
   "execution_count": 1,
   "id": "4f36805b",
   "metadata": {},
   "outputs": [],
   "source": [
    "import numpy as np\n",
    "import pandas as pd\n",
    "import os"
   ]
  },
  {
   "cell_type": "code",
   "execution_count": 2,
   "id": "066bcf21",
   "metadata": {},
   "outputs": [],
   "source": [
    "folder = os.path.join(os.path.abspath(\"..\"), \"interest\")"
   ]
  },
  {
   "cell_type": "code",
   "execution_count": 3,
   "id": "d3f392fa",
   "metadata": {},
   "outputs": [],
   "source": [
    "artist = pd.read_csv(os.path.join(folder, \"data_by_artist.csv\"))\n",
    "year = pd.read_csv(os.path.join(folder, \"data_by_year.csv\"))\n",
    "music = pd.read_csv(os.path.join(folder, \"full_music_data.csv\"))\n",
    "influence = pd.read_csv(os.path.join(folder, \"influence_data.csv\"))"
   ]
  },
  {
   "cell_type": "markdown",
   "id": "8559ae2e",
   "metadata": {},
   "source": [
    "#### arrange music data"
   ]
  },
  {
   "cell_type": "code",
   "execution_count": 4,
   "id": "3a148dbd",
   "metadata": {},
   "outputs": [],
   "source": [
    "# preprocessing\n",
    "# 修正数据类型\n",
    "music[\"music_id\"] = range(len(music))\n",
    "music[\"release_date\"] = music[\"release_date\"].astype(\"datetime64\")\n",
    "music = music.sort_values(by = 'release_date', ascending = True)\n",
    "music = music.reset_index(drop = True)"
   ]
  },
  {
   "cell_type": "code",
   "execution_count": 5,
   "id": "2957e5cd",
   "metadata": {},
   "outputs": [],
   "source": [
    "# 做pre和写report没用\n",
    "# 因为原数据当中没有genre的信息，influence里面才有每个musician的genre，所以需要匹配一下每一首音乐对应的genre\n",
    "# mapping music with genre\n",
    "lookup1 = influence.loc[:, [\"influencer_id\", \"influencer_main_genre\"]]\n",
    "lookup1.columns = [\"artists_id\", \"genre\"]\n",
    "\n",
    "lookup2 = influence.loc[:, [\"follower_id\", \"follower_main_genre\"]]\n",
    "lookup2.columns = [\"artists_id\", \"genre\"]\n",
    "\n",
    "lookup = pd.concat([lookup1, lookup2])\n",
    "lookup = lookup.groupby(\"artists_id\").first().reset_index()\n",
    "\n",
    "lookup_dict = lookup.set_index('artists_id')['genre'].to_dict()\n",
    "# lookup_dict\n",
    "\n",
    "lookup2 = influence.loc[:, [\"follower_id\", \"follower_main_genre\"]]\n",
    "lookup2.columns = [\"artists_id\", \"genre\"]\n",
    "\n",
    "lookup = pd.concat([lookup1, lookup2])\n",
    "lookup = lookup.groupby(\"artists_id\").first().reset_index()\n",
    "\n",
    "lookup_dict = lookup.set_index('artists_id')['genre'].to_dict()\n",
    "\n",
    "music_artists_lst = music[\"artists_id\"].str.extract(r\"\\[(\\d+(?:,\\s*\\d+)*)\\]\")[0].str.split(\", \")\n",
    "\n",
    "def artists_to_genre(lst):\n",
    "    lst = [lookup_dict[int(artist_id)] if int(artist_id) in lookup_dict.keys() else \"Unknown\" for artist_id in lst]\n",
    "    return max(set(lst), key = lst.count)\n",
    "\n",
    "music[\"genre\"] = music_artists_lst.apply(lambda x:artists_to_genre(x))"
   ]
  },
  {
   "cell_type": "code",
   "execution_count": 6,
   "id": "d92cabfa",
   "metadata": {},
   "outputs": [],
   "source": [
    "# delete niche groups\n",
    "music = music.loc[music[\"genre\"] != \"Unknown\", :]"
   ]
  },
  {
   "cell_type": "code",
   "execution_count": 7,
   "id": "8c5bf054",
   "metadata": {},
   "outputs": [
    {
     "name": "stdout",
     "output_type": "stream",
     "text": [
      "1925    3\n",
      "1921    2\n",
      "1924    2\n",
      "1926    2\n",
      "1929    1\n",
      "Name: year, dtype: int64\n"
     ]
    }
   ],
   "source": [
    "# 去掉43年以前的音乐（因为数据太少）\n",
    "print(music[\"year\"].value_counts().tail())\n",
    "music = music.loc[music[\"year\"] > 1943, :]"
   ]
  },
  {
   "cell_type": "code",
   "execution_count": 8,
   "id": "9247e6a1",
   "metadata": {},
   "outputs": [],
   "source": [
    "music = music.reset_index(drop = True)"
   ]
  },
  {
   "cell_type": "markdown",
   "id": "4abbe4b7",
   "metadata": {},
   "source": [
    "#### group by niche categories\n",
    "#### 按照correlation of coefficient来合并genre\n",
    "##### 最终，将\"Comedy/Spoken\", \"Children's\"去掉，'Avant-Garde',  'Classical',  'Jazz',  'Stage & Screen',  'Folk',  'Easy Listening',  'New Age',  'Vocal',  'International'合并为niche1，\"Religious\", \"Electronic\", \"Country\", \"Latin\", \"New Age\"合并为genre2"
   ]
  },
  {
   "cell_type": "code",
   "execution_count": 9,
   "id": "d52ccd89",
   "metadata": {},
   "outputs": [
    {
     "data": {
      "text/plain": [
       "Index(['artist_names', 'artists_id', 'danceability', 'energy', 'valence',\n",
       "       'tempo', 'loudness', 'mode', 'key', 'acousticness', 'instrumentalness',\n",
       "       'liveness', 'speechiness', 'explicit', 'duration_ms', 'popularity',\n",
       "       'year', 'release_date', 'song_title (censored)', 'music_id', 'genre'],\n",
       "      dtype='object')"
      ]
     },
     "execution_count": 9,
     "metadata": {},
     "output_type": "execute_result"
    }
   ],
   "source": [
    "music.columns"
   ]
  },
  {
   "cell_type": "code",
   "execution_count": 10,
   "id": "0683d585",
   "metadata": {},
   "outputs": [],
   "source": [
    "feature_columns = ['danceability', 'energy', 'valence',\n",
    "       'tempo', 'loudness', 'mode', 'key', 'acousticness', 'instrumentalness',\n",
    "       'liveness', 'speechiness', 'explicit', 'duration_ms', 'popularity']"
   ]
  },
  {
   "cell_type": "code",
   "execution_count": 11,
   "id": "57d78edb",
   "metadata": {},
   "outputs": [],
   "source": [
    "from sklearn.preprocessing import StandardScaler"
   ]
  },
  {
   "cell_type": "code",
   "execution_count": 12,
   "id": "5285d039",
   "metadata": {},
   "outputs": [
    {
     "data": {
      "text/plain": [
       "Pop/Rock          47350\n",
       "R&B;              10567\n",
       "Country            7566\n",
       "Jazz               6840\n",
       "Vocal              5379\n",
       "Latin              4569\n",
       "Classical          2090\n",
       "International      1423\n",
       "Folk               1397\n",
       "Reggae             1299\n",
       "Electronic         1223\n",
       "Blues              1109\n",
       "Stage & Screen      993\n",
       "Easy Listening      847\n",
       "Religious           716\n",
       "Comedy/Spoken       330\n",
       "New Age             253\n",
       "Avant-Garde         214\n",
       "Children's           59\n",
       "Name: genre, dtype: int64"
      ]
     },
     "execution_count": 12,
     "metadata": {},
     "output_type": "execute_result"
    }
   ],
   "source": [
    "tmp_scaler = StandardScaler()\n",
    "music_tmp = tmp_scaler.fit_transform(music[feature_columns])\n",
    "music_tmp = pd.DataFrame(music_tmp)\n",
    "\n",
    "music_tmp.columns = feature_columns\n",
    "music_tmp[\"music_id\"] = music[\"music_id\"]\n",
    "music_tmp[\"genre\"] = music[\"genre\"]\n",
    "\n",
    "\n",
    "genre_attributes = music_tmp.groupby([\"genre\"])[feature_columns].mean().T\n",
    "\n",
    "genre_corr = genre_attributes.corr()\n",
    "\n",
    "music[\"genre\"].value_counts()"
   ]
  },
  {
   "cell_type": "code",
   "execution_count": 13,
   "id": "a66f68ff",
   "metadata": {},
   "outputs": [
    {
     "data": {
      "text/plain": [
       "genre\n",
       "Children's       1.000000\n",
       "Blues            0.824063\n",
       "Country          0.704647\n",
       "Folk             0.596422\n",
       "International    0.582325\n",
       "Name: Children's, dtype: float64"
      ]
     },
     "execution_count": 13,
     "metadata": {},
     "output_type": "execute_result"
    }
   ],
   "source": [
    "genre_corr.loc[\"Children's\", :].sort_values(ascending = False).head()"
   ]
  },
  {
   "cell_type": "code",
   "execution_count": 14,
   "id": "3f845f60",
   "metadata": {},
   "outputs": [
    {
     "data": {
      "text/plain": [
       "genre\n",
       "Avant-Garde       1.000000\n",
       "Classical         0.920723\n",
       "Jazz              0.879857\n",
       "Stage & Screen    0.844490\n",
       "Folk              0.844168\n",
       "Easy Listening    0.829934\n",
       "New Age           0.829531\n",
       "Vocal             0.777213\n",
       "International     0.667144\n",
       "Blues             0.497891\n",
       "Name: Avant-Garde, dtype: float64"
      ]
     },
     "execution_count": 14,
     "metadata": {},
     "output_type": "execute_result"
    }
   ],
   "source": [
    "genre_corr.loc[\"Avant-Garde\", :].sort_values(ascending = False).head(10)"
   ]
  },
  {
   "cell_type": "code",
   "execution_count": 15,
   "id": "fff5dd7a",
   "metadata": {},
   "outputs": [],
   "source": [
    "niche_genre1 = list(genre_corr.loc[\"Avant-Garde\", :].sort_values(ascending = False).head(9).index)"
   ]
  },
  {
   "cell_type": "code",
   "execution_count": 16,
   "id": "5725679a",
   "metadata": {},
   "outputs": [
    {
     "data": {
      "text/plain": [
       "['Avant-Garde',\n",
       " 'Classical',\n",
       " 'Jazz',\n",
       " 'Stage & Screen',\n",
       " 'Folk',\n",
       " 'Easy Listening',\n",
       " 'New Age',\n",
       " 'Vocal',\n",
       " 'International']"
      ]
     },
     "execution_count": 16,
     "metadata": {},
     "output_type": "execute_result"
    }
   ],
   "source": [
    "niche_genre1"
   ]
  },
  {
   "cell_type": "code",
   "execution_count": 103,
   "id": "1de8a7c3",
   "metadata": {},
   "outputs": [],
   "source": [
    "music[\"genre\"] = music[\"genre\"].apply(lambda x:\"niche1\" if x in niche_genre1 else x)"
   ]
  },
  {
   "cell_type": "code",
   "execution_count": 104,
   "id": "ac110971",
   "metadata": {},
   "outputs": [
    {
     "data": {
      "text/plain": [
       "Pop/Rock         47721\n",
       "niche1           19934\n",
       "R&B;             10363\n",
       "Country           7584\n",
       "Latin             4744\n",
       "Reggae            1329\n",
       "Electronic        1236\n",
       "Religious          715\n",
       "Comedy/Spoken      326\n",
       "New Age            252\n",
       "Children's          56\n",
       "Name: genre, dtype: int64"
      ]
     },
     "execution_count": 104,
     "metadata": {},
     "output_type": "execute_result"
    }
   ],
   "source": [
    "tmp_scaler = StandardScaler()\n",
    "music_tmp = tmp_scaler.fit_transform(music[feature_columns])\n",
    "music_tmp = pd.DataFrame(music_tmp)\n",
    "\n",
    "music_tmp.columns = feature_columns\n",
    "music_tmp[\"music_id\"] = music[\"music_id\"]\n",
    "music_tmp[\"genre\"] = music[\"genre\"]\n",
    "\n",
    "genre_attributes = music_tmp.groupby([\"genre\"])[feature_columns].mean().T\n",
    "\n",
    "genre_corr = genre_attributes.corr()\n",
    "\n",
    "music[\"genre\"].value_counts()"
   ]
  },
  {
   "cell_type": "code",
   "execution_count": 105,
   "id": "818e8199",
   "metadata": {},
   "outputs": [
    {
     "data": {
      "text/plain": [
       "genre\n",
       "Religious        1.000000\n",
       "Pop/Rock         0.629851\n",
       "Latin            0.174193\n",
       "R&B;             0.128398\n",
       "Electronic       0.066644\n",
       "Country          0.037776\n",
       "Reggae          -0.052267\n",
       "Comedy/Spoken   -0.120106\n",
       "Children's      -0.220047\n",
       "New Age         -0.497711\n",
       "niche1          -0.627856\n",
       "Name: Religious, dtype: float64"
      ]
     },
     "execution_count": 105,
     "metadata": {},
     "output_type": "execute_result"
    }
   ],
   "source": [
    "genre_corr.loc[\"Religious\", :].sort_values(ascending = False)"
   ]
  },
  {
   "cell_type": "code",
   "execution_count": 106,
   "id": "91ec83a4",
   "metadata": {},
   "outputs": [],
   "source": [
    "niche_genre2 = [\"Religious\", \"Electronic\", \"Country\", \"Latin\", \"New Age\"]"
   ]
  },
  {
   "cell_type": "code",
   "execution_count": 107,
   "id": "fabb7a79",
   "metadata": {},
   "outputs": [],
   "source": [
    "music[\"genre\"] = music[\"genre\"].apply(lambda x:\"niche2\" if x in niche_genre2 else x)"
   ]
  },
  {
   "cell_type": "code",
   "execution_count": 108,
   "id": "30ab1e87",
   "metadata": {},
   "outputs": [
    {
     "data": {
      "text/plain": [
       "Pop/Rock         47721\n",
       "niche1           19934\n",
       "niche2           14531\n",
       "R&B;             10363\n",
       "Reggae            1329\n",
       "Comedy/Spoken      326\n",
       "Children's          56\n",
       "Name: genre, dtype: int64"
      ]
     },
     "execution_count": 108,
     "metadata": {},
     "output_type": "execute_result"
    }
   ],
   "source": [
    "tmp_scaler = StandardScaler()\n",
    "music_tmp = tmp_scaler.fit_transform(music[feature_columns])\n",
    "music_tmp = pd.DataFrame(music_tmp)\n",
    "\n",
    "music_tmp.columns = feature_columns\n",
    "music_tmp[\"music_id\"] = music[\"music_id\"]\n",
    "music_tmp[\"genre\"] = music[\"genre\"]\n",
    "\n",
    "genre_attributes = music_tmp.groupby([\"genre\"])[feature_columns].mean().T\n",
    "\n",
    "genre_corr = genre_attributes.corr()\n",
    "\n",
    "music[\"genre\"].value_counts()"
   ]
  },
  {
   "cell_type": "code",
   "execution_count": 109,
   "id": "fdee9de1",
   "metadata": {},
   "outputs": [
    {
     "data": {
      "text/plain": [
       "genre\n",
       "Reggae           1.000000\n",
       "R&B;             0.762506\n",
       "Children's       0.407293\n",
       "Comedy/Spoken    0.369596\n",
       "niche2           0.354136\n",
       "Pop/Rock        -0.027313\n",
       "niche1          -0.320169\n",
       "Name: Reggae, dtype: float64"
      ]
     },
     "execution_count": 109,
     "metadata": {},
     "output_type": "execute_result"
    }
   ],
   "source": [
    "genre_corr.loc[\"Reggae\", :].sort_values(ascending = False)"
   ]
  },
  {
   "cell_type": "code",
   "execution_count": 110,
   "id": "c336d73c",
   "metadata": {},
   "outputs": [],
   "source": [
    "music.loc[music[\"genre\"] == \"Reggae\", \"genre\"] = \"Pop/Rock\""
   ]
  },
  {
   "cell_type": "code",
   "execution_count": 111,
   "id": "509be8b3",
   "metadata": {},
   "outputs": [
    {
     "data": {
      "text/plain": [
       "Pop/Rock         49050\n",
       "niche1           19934\n",
       "niche2           14531\n",
       "R&B;             10363\n",
       "Comedy/Spoken      326\n",
       "Children's          56\n",
       "Name: genre, dtype: int64"
      ]
     },
     "execution_count": 111,
     "metadata": {},
     "output_type": "execute_result"
    }
   ],
   "source": [
    "tmp_scaler = StandardScaler()\n",
    "music_tmp = tmp_scaler.fit_transform(music[feature_columns])\n",
    "music_tmp = pd.DataFrame(music_tmp)\n",
    "\n",
    "music_tmp.columns = feature_columns\n",
    "music_tmp[\"music_id\"] = music[\"music_id\"]\n",
    "music_tmp[\"genre\"] = music[\"genre\"]\n",
    "\n",
    "\n",
    "genre_attributes = music_tmp.groupby([\"genre\"])[feature_columns].mean().T\n",
    "\n",
    "genre_corr = genre_attributes.corr()\n",
    "\n",
    "music[\"genre\"].value_counts()"
   ]
  },
  {
   "cell_type": "code",
   "execution_count": 112,
   "id": "5394458f",
   "metadata": {},
   "outputs": [],
   "source": [
    "music = music.loc[~music[\"genre\"].isin([\"Comedy/Spoken\", \"Children's\"]), :]\n",
    "music = music.reset_index(drop = True)"
   ]
  },
  {
   "cell_type": "code",
   "execution_count": 113,
   "id": "7c389fca",
   "metadata": {},
   "outputs": [
    {
     "data": {
      "text/plain": [
       "Pop/Rock    49050\n",
       "niche1      19934\n",
       "niche2      14531\n",
       "R&B;        10363\n",
       "Name: genre, dtype: int64"
      ]
     },
     "execution_count": 113,
     "metadata": {},
     "output_type": "execute_result"
    }
   ],
   "source": [
    "music[\"genre\"].value_counts()"
   ]
  },
  {
   "cell_type": "markdown",
   "id": "e2ef5a2b",
   "metadata": {},
   "source": [
    "#### add # of musician's information，增加每首歌有几位音乐家创作的feature"
   ]
  },
  {
   "cell_type": "code",
   "execution_count": 114,
   "id": "61628d22",
   "metadata": {},
   "outputs": [
    {
     "data": {
      "text/plain": [
       "0         [792507]\n",
       "1         [259529]\n",
       "2         [792507]\n",
       "3         [259529]\n",
       "4         [792507]\n",
       "           ...    \n",
       "93873    [3006966]\n",
       "93874     [312004]\n",
       "93875     [312004]\n",
       "93876     [994823]\n",
       "93877     [303506]\n",
       "Name: 0, Length: 93878, dtype: object"
      ]
     },
     "execution_count": 114,
     "metadata": {},
     "output_type": "execute_result"
    }
   ],
   "source": [
    "music_artists_lst = music[\"artists_id\"].str.extract(r\"\\[(\\d+(?:,\\s*\\d+)*)\\]\")[0].str.split(\", \")\n",
    "music_artists_lst"
   ]
  },
  {
   "cell_type": "code",
   "execution_count": 115,
   "id": "7e8edb5d",
   "metadata": {},
   "outputs": [],
   "source": [
    "music[\"musician_cnt\"] = music_artists_lst.apply(lambda x:len(x))"
   ]
  },
  {
   "cell_type": "markdown",
   "id": "912e307a",
   "metadata": {},
   "source": [
    "#### arrange the data"
   ]
  },
  {
   "cell_type": "code",
   "execution_count": 116,
   "id": "7dabf67b",
   "metadata": {},
   "outputs": [
    {
     "data": {
      "text/html": [
       "<div>\n",
       "<style scoped>\n",
       "    .dataframe tbody tr th:only-of-type {\n",
       "        vertical-align: middle;\n",
       "    }\n",
       "\n",
       "    .dataframe tbody tr th {\n",
       "        vertical-align: top;\n",
       "    }\n",
       "\n",
       "    .dataframe thead th {\n",
       "        text-align: right;\n",
       "    }\n",
       "</style>\n",
       "<table border=\"1\" class=\"dataframe\">\n",
       "  <thead>\n",
       "    <tr style=\"text-align: right;\">\n",
       "      <th></th>\n",
       "      <th>artist_names</th>\n",
       "      <th>artists_id</th>\n",
       "      <th>danceability</th>\n",
       "      <th>energy</th>\n",
       "      <th>valence</th>\n",
       "      <th>tempo</th>\n",
       "      <th>loudness</th>\n",
       "      <th>mode</th>\n",
       "      <th>key</th>\n",
       "      <th>acousticness</th>\n",
       "      <th>...</th>\n",
       "      <th>speechiness</th>\n",
       "      <th>explicit</th>\n",
       "      <th>duration_ms</th>\n",
       "      <th>popularity</th>\n",
       "      <th>year</th>\n",
       "      <th>release_date</th>\n",
       "      <th>song_title (censored)</th>\n",
       "      <th>music_id</th>\n",
       "      <th>genre</th>\n",
       "      <th>musician_cnt</th>\n",
       "    </tr>\n",
       "  </thead>\n",
       "  <tbody>\n",
       "    <tr>\n",
       "      <th>0</th>\n",
       "      <td>['Frank Sinatra']</td>\n",
       "      <td>[792507]</td>\n",
       "      <td>0.197</td>\n",
       "      <td>0.0546</td>\n",
       "      <td>0.100</td>\n",
       "      <td>90.150</td>\n",
       "      <td>-22.411</td>\n",
       "      <td>1</td>\n",
       "      <td>1</td>\n",
       "      <td>0.950</td>\n",
       "      <td>...</td>\n",
       "      <td>0.0346</td>\n",
       "      <td>0</td>\n",
       "      <td>186173</td>\n",
       "      <td>53</td>\n",
       "      <td>1944</td>\n",
       "      <td>1944-01-01</td>\n",
       "      <td>Put Your Dreams Away (For Another Day)</td>\n",
       "      <td>34075</td>\n",
       "      <td>niche1</td>\n",
       "      <td>1</td>\n",
       "    </tr>\n",
       "    <tr>\n",
       "      <th>1</th>\n",
       "      <td>['Lester Young']</td>\n",
       "      <td>[259529]</td>\n",
       "      <td>0.392</td>\n",
       "      <td>0.2790</td>\n",
       "      <td>0.650</td>\n",
       "      <td>170.639</td>\n",
       "      <td>-13.507</td>\n",
       "      <td>1</td>\n",
       "      <td>8</td>\n",
       "      <td>0.884</td>\n",
       "      <td>...</td>\n",
       "      <td>0.0597</td>\n",
       "      <td>0</td>\n",
       "      <td>143173</td>\n",
       "      <td>3</td>\n",
       "      <td>1944</td>\n",
       "      <td>1944-01-01</td>\n",
       "      <td>***** 'N' Bell's - Take 3</td>\n",
       "      <td>53744</td>\n",
       "      <td>niche1</td>\n",
       "      <td>1</td>\n",
       "    </tr>\n",
       "    <tr>\n",
       "      <th>2</th>\n",
       "      <td>['Frank Sinatra']</td>\n",
       "      <td>[792507]</td>\n",
       "      <td>0.561</td>\n",
       "      <td>0.3350</td>\n",
       "      <td>0.590</td>\n",
       "      <td>126.974</td>\n",
       "      <td>-11.093</td>\n",
       "      <td>0</td>\n",
       "      <td>9</td>\n",
       "      <td>0.840</td>\n",
       "      <td>...</td>\n",
       "      <td>0.0499</td>\n",
       "      <td>0</td>\n",
       "      <td>163000</td>\n",
       "      <td>55</td>\n",
       "      <td>1944</td>\n",
       "      <td>1944-01-01</td>\n",
       "      <td>******** ***** (Is The Loneliest ***** In The ...</td>\n",
       "      <td>34074</td>\n",
       "      <td>niche1</td>\n",
       "      <td>1</td>\n",
       "    </tr>\n",
       "    <tr>\n",
       "      <th>3</th>\n",
       "      <td>['Lester Young']</td>\n",
       "      <td>[259529]</td>\n",
       "      <td>0.488</td>\n",
       "      <td>0.3080</td>\n",
       "      <td>0.798</td>\n",
       "      <td>185.988</td>\n",
       "      <td>-14.119</td>\n",
       "      <td>1</td>\n",
       "      <td>8</td>\n",
       "      <td>0.946</td>\n",
       "      <td>...</td>\n",
       "      <td>0.0674</td>\n",
       "      <td>0</td>\n",
       "      <td>174427</td>\n",
       "      <td>2</td>\n",
       "      <td>1944</td>\n",
       "      <td>1944-01-01</td>\n",
       "      <td>Indiana - Take *</td>\n",
       "      <td>53742</td>\n",
       "      <td>niche1</td>\n",
       "      <td>1</td>\n",
       "    </tr>\n",
       "    <tr>\n",
       "      <th>4</th>\n",
       "      <td>['Frank Sinatra']</td>\n",
       "      <td>[792507]</td>\n",
       "      <td>0.169</td>\n",
       "      <td>0.1470</td>\n",
       "      <td>0.152</td>\n",
       "      <td>174.301</td>\n",
       "      <td>-16.491</td>\n",
       "      <td>1</td>\n",
       "      <td>2</td>\n",
       "      <td>0.906</td>\n",
       "      <td>...</td>\n",
       "      <td>0.0336</td>\n",
       "      <td>0</td>\n",
       "      <td>218093</td>\n",
       "      <td>34</td>\n",
       "      <td>1944</td>\n",
       "      <td>1944-01-01</td>\n",
       "      <td>***** and Day</td>\n",
       "      <td>34076</td>\n",
       "      <td>niche1</td>\n",
       "      <td>1</td>\n",
       "    </tr>\n",
       "  </tbody>\n",
       "</table>\n",
       "<p>5 rows × 22 columns</p>\n",
       "</div>"
      ],
      "text/plain": [
       "        artist_names artists_id  danceability  energy  valence    tempo  \\\n",
       "0  ['Frank Sinatra']   [792507]         0.197  0.0546    0.100   90.150   \n",
       "1   ['Lester Young']   [259529]         0.392  0.2790    0.650  170.639   \n",
       "2  ['Frank Sinatra']   [792507]         0.561  0.3350    0.590  126.974   \n",
       "3   ['Lester Young']   [259529]         0.488  0.3080    0.798  185.988   \n",
       "4  ['Frank Sinatra']   [792507]         0.169  0.1470    0.152  174.301   \n",
       "\n",
       "   loudness  mode  key  acousticness  ...  speechiness  explicit  duration_ms  \\\n",
       "0   -22.411     1    1         0.950  ...       0.0346         0       186173   \n",
       "1   -13.507     1    8         0.884  ...       0.0597         0       143173   \n",
       "2   -11.093     0    9         0.840  ...       0.0499         0       163000   \n",
       "3   -14.119     1    8         0.946  ...       0.0674         0       174427   \n",
       "4   -16.491     1    2         0.906  ...       0.0336         0       218093   \n",
       "\n",
       "   popularity  year  release_date  \\\n",
       "0          53  1944    1944-01-01   \n",
       "1           3  1944    1944-01-01   \n",
       "2          55  1944    1944-01-01   \n",
       "3           2  1944    1944-01-01   \n",
       "4          34  1944    1944-01-01   \n",
       "\n",
       "                               song_title (censored) music_id   genre  \\\n",
       "0             Put Your Dreams Away (For Another Day)    34075  niche1   \n",
       "1                          ***** 'N' Bell's - Take 3    53744  niche1   \n",
       "2  ******** ***** (Is The Loneliest ***** In The ...    34074  niche1   \n",
       "3                                   Indiana - Take *    53742  niche1   \n",
       "4                                      ***** and Day    34076  niche1   \n",
       "\n",
       "   musician_cnt  \n",
       "0             1  \n",
       "1             1  \n",
       "2             1  \n",
       "3             1  \n",
       "4             1  \n",
       "\n",
       "[5 rows x 22 columns]"
      ]
     },
     "execution_count": 116,
     "metadata": {},
     "output_type": "execute_result"
    }
   ],
   "source": [
    "music.head()"
   ]
  },
  {
   "cell_type": "code",
   "execution_count": 117,
   "id": "18f5f764",
   "metadata": {},
   "outputs": [
    {
     "data": {
      "text/plain": [
       "Index(['artist_names', 'artists_id', 'danceability', 'energy', 'valence',\n",
       "       'tempo', 'loudness', 'mode', 'key', 'acousticness', 'instrumentalness',\n",
       "       'liveness', 'speechiness', 'explicit', 'duration_ms', 'popularity',\n",
       "       'year', 'release_date', 'song_title (censored)', 'music_id', 'genre',\n",
       "       'musician_cnt'],\n",
       "      dtype='object')"
      ]
     },
     "execution_count": 117,
     "metadata": {},
     "output_type": "execute_result"
    }
   ],
   "source": [
    "music.columns"
   ]
  },
  {
   "cell_type": "code",
   "execution_count": 118,
   "id": "97f38468",
   "metadata": {},
   "outputs": [],
   "source": [
    "music = music.drop(columns = ['artist_names', 'year', \"song_title (censored)\"])\n",
    "music = music.reset_index(drop = True)"
   ]
  },
  {
   "cell_type": "markdown",
   "id": "b4ead43c",
   "metadata": {},
   "source": [
    "#### Standardize music features，更改字符，通过方差均值进行标准化"
   ]
  },
  {
   "cell_type": "code",
   "execution_count": 119,
   "id": "4866eb67",
   "metadata": {},
   "outputs": [
    {
     "data": {
      "text/plain": [
       "Index(['artists_id', 'danceability', 'energy', 'valence', 'tempo', 'loudness',\n",
       "       'mode', 'key', 'acousticness', 'instrumentalness', 'liveness',\n",
       "       'speechiness', 'explicit', 'duration_ms', 'popularity', 'release_date',\n",
       "       'music_id', 'genre', 'musician_cnt'],\n",
       "      dtype='object')"
      ]
     },
     "execution_count": 119,
     "metadata": {},
     "output_type": "execute_result"
    }
   ],
   "source": [
    "music.columns"
   ]
  },
  {
   "cell_type": "code",
   "execution_count": 120,
   "id": "b255d3de",
   "metadata": {},
   "outputs": [
    {
     "data": {
      "text/plain": [
       "array(['niche1', 'niche2', 'Pop/Rock', 'R&B;'], dtype=object)"
      ]
     },
     "execution_count": 120,
     "metadata": {},
     "output_type": "execute_result"
    }
   ],
   "source": [
    "music[\"genre\"].unique()"
   ]
  },
  {
   "cell_type": "code",
   "execution_count": 121,
   "id": "95fc4677",
   "metadata": {},
   "outputs": [],
   "source": [
    "category_replace = {'Pop/Rock': \"pop_rock\",\n",
    "                   \"R&B;\": \"r_b\"}"
   ]
  },
  {
   "cell_type": "code",
   "execution_count": 122,
   "id": "9ed12d75",
   "metadata": {},
   "outputs": [],
   "source": [
    "music[\"genre\"] = music[\"genre\"].replace(category_replace)"
   ]
  },
  {
   "cell_type": "code",
   "execution_count": 123,
   "id": "fafa146e",
   "metadata": {},
   "outputs": [],
   "source": [
    "# add dummy variables\n",
    "genre_dummy = pd.get_dummies(music_feature[\"genre\"], drop_first = False)\n",
    "music = pd.concat([music, genre_dummy], axis = 1)"
   ]
  },
  {
   "cell_type": "code",
   "execution_count": 124,
   "id": "6ff81bb2",
   "metadata": {},
   "outputs": [
    {
     "data": {
      "text/plain": [
       "Index(['artists_id', 'danceability', 'energy', 'valence', 'tempo', 'loudness',\n",
       "       'mode', 'key', 'acousticness', 'instrumentalness', 'liveness',\n",
       "       'speechiness', 'explicit', 'duration_ms', 'popularity', 'release_date',\n",
       "       'music_id', 'genre', 'musician_cnt', 'niche1', 'niche2', 'pop_rock',\n",
       "       'r_b'],\n",
       "      dtype='object')"
      ]
     },
     "execution_count": 124,
     "metadata": {},
     "output_type": "execute_result"
    }
   ],
   "source": [
    "music.columns"
   ]
  },
  {
   "cell_type": "code",
   "execution_count": 125,
   "id": "422a7efc",
   "metadata": {},
   "outputs": [],
   "source": [
    "feature_columns = ['danceability', 'energy', 'valence', 'tempo', 'loudness',\n",
    "       'mode', 'key', 'acousticness', 'instrumentalness', 'liveness',\n",
    "       'speechiness', 'explicit', 'duration_ms', 'popularity', 'musician_cnt', \n",
    "                  'niche1', 'niche2', 'pop_rock', 'r_b']"
   ]
  },
  {
   "cell_type": "code",
   "execution_count": 126,
   "id": "1a2c1417",
   "metadata": {},
   "outputs": [],
   "source": [
    "scalar = StandardScaler()\n",
    "music = music.reset_index(drop = True)\n",
    "music_feature = scalar.fit_transform(music[feature_columns])"
   ]
  },
  {
   "cell_type": "code",
   "execution_count": 127,
   "id": "24a75bd2",
   "metadata": {},
   "outputs": [],
   "source": [
    "music_feature = pd.DataFrame(music_feature)\n",
    "music_feature.columns = feature_columns"
   ]
  },
  {
   "cell_type": "code",
   "execution_count": 128,
   "id": "27a8bbe3",
   "metadata": {},
   "outputs": [],
   "source": [
    "music_feature[\"artists_id\"] = music[\"artists_id\"]\n",
    "music_feature[\"release_date\"] = music[\"release_date\"]\n",
    "music_feature[\"music_id\"] = music[\"music_id\"]\n",
    "music_feature[\"genre\"] = music[\"genre\"]"
   ]
  },
  {
   "cell_type": "code",
   "execution_count": 134,
   "id": "4304de04",
   "metadata": {},
   "outputs": [],
   "source": [
    "music_feature = music_feature.sort_values(by = [\"release_date\", \"music_id\"], ascending = True)\n",
    "music_feature = music_feature.reset_index(drop = True)"
   ]
  },
  {
   "cell_type": "code",
   "execution_count": 135,
   "id": "562ddfae",
   "metadata": {
    "scrolled": true
   },
   "outputs": [
    {
     "data": {
      "text/html": [
       "<div>\n",
       "<style scoped>\n",
       "    .dataframe tbody tr th:only-of-type {\n",
       "        vertical-align: middle;\n",
       "    }\n",
       "\n",
       "    .dataframe tbody tr th {\n",
       "        vertical-align: top;\n",
       "    }\n",
       "\n",
       "    .dataframe thead th {\n",
       "        text-align: right;\n",
       "    }\n",
       "</style>\n",
       "<table border=\"1\" class=\"dataframe\">\n",
       "  <thead>\n",
       "    <tr style=\"text-align: right;\">\n",
       "      <th></th>\n",
       "      <th>danceability</th>\n",
       "      <th>energy</th>\n",
       "      <th>valence</th>\n",
       "      <th>tempo</th>\n",
       "      <th>loudness</th>\n",
       "      <th>mode</th>\n",
       "      <th>key</th>\n",
       "      <th>acousticness</th>\n",
       "      <th>instrumentalness</th>\n",
       "      <th>liveness</th>\n",
       "      <th>...</th>\n",
       "      <th>popularity</th>\n",
       "      <th>musician_cnt</th>\n",
       "      <th>niche1</th>\n",
       "      <th>niche2</th>\n",
       "      <th>pop_rock</th>\n",
       "      <th>r_b</th>\n",
       "      <th>artists_id</th>\n",
       "      <th>release_date</th>\n",
       "      <th>music_id</th>\n",
       "      <th>genre</th>\n",
       "    </tr>\n",
       "  </thead>\n",
       "  <tbody>\n",
       "    <tr>\n",
       "      <th>0</th>\n",
       "      <td>-1.417448</td>\n",
       "      <td>-1.625664</td>\n",
       "      <td>-1.143229</td>\n",
       "      <td>0.588683</td>\n",
       "      <td>-0.929159</td>\n",
       "      <td>0.618804</td>\n",
       "      <td>0.516467</td>\n",
       "      <td>1.422265</td>\n",
       "      <td>1.328603</td>\n",
       "      <td>1.238703</td>\n",
       "      <td>...</td>\n",
       "      <td>-2.189136</td>\n",
       "      <td>-0.181069</td>\n",
       "      <td>1.925991</td>\n",
       "      <td>-0.42794</td>\n",
       "      <td>-1.046032</td>\n",
       "      <td>-0.352258</td>\n",
       "      <td>[26350]</td>\n",
       "      <td>1944-01-01</td>\n",
       "      <td>3206</td>\n",
       "      <td>niche1</td>\n",
       "    </tr>\n",
       "    <tr>\n",
       "      <th>1</th>\n",
       "      <td>-0.233427</td>\n",
       "      <td>-1.082774</td>\n",
       "      <td>0.714122</td>\n",
       "      <td>-0.172814</td>\n",
       "      <td>-1.121847</td>\n",
       "      <td>0.618804</td>\n",
       "      <td>0.516467</td>\n",
       "      <td>1.528727</td>\n",
       "      <td>1.355216</td>\n",
       "      <td>0.313645</td>\n",
       "      <td>...</td>\n",
       "      <td>-2.129227</td>\n",
       "      <td>-0.181069</td>\n",
       "      <td>1.925991</td>\n",
       "      <td>-0.42794</td>\n",
       "      <td>-1.046032</td>\n",
       "      <td>-0.352258</td>\n",
       "      <td>[26350]</td>\n",
       "      <td>1944-01-01</td>\n",
       "      <td>3227</td>\n",
       "      <td>niche1</td>\n",
       "    </tr>\n",
       "    <tr>\n",
       "      <th>2</th>\n",
       "      <td>-1.104572</td>\n",
       "      <td>-1.752975</td>\n",
       "      <td>-0.091898</td>\n",
       "      <td>0.290306</td>\n",
       "      <td>-1.246168</td>\n",
       "      <td>0.618804</td>\n",
       "      <td>-0.908235</td>\n",
       "      <td>1.476934</td>\n",
       "      <td>-0.445792</td>\n",
       "      <td>1.108870</td>\n",
       "      <td>...</td>\n",
       "      <td>-2.129227</td>\n",
       "      <td>-0.181069</td>\n",
       "      <td>1.925991</td>\n",
       "      <td>-0.42794</td>\n",
       "      <td>-1.046032</td>\n",
       "      <td>-0.352258</td>\n",
       "      <td>[26350]</td>\n",
       "      <td>1944-01-01</td>\n",
       "      <td>3258</td>\n",
       "      <td>niche1</td>\n",
       "    </tr>\n",
       "    <tr>\n",
       "      <th>3</th>\n",
       "      <td>-2.184302</td>\n",
       "      <td>-1.914313</td>\n",
       "      <td>-1.927444</td>\n",
       "      <td>-0.167752</td>\n",
       "      <td>-2.948208</td>\n",
       "      <td>0.618804</td>\n",
       "      <td>-0.053414</td>\n",
       "      <td>1.560378</td>\n",
       "      <td>-0.220303</td>\n",
       "      <td>-0.670920</td>\n",
       "      <td>...</td>\n",
       "      <td>-2.129227</td>\n",
       "      <td>-0.181069</td>\n",
       "      <td>1.925991</td>\n",
       "      <td>-0.42794</td>\n",
       "      <td>-1.046032</td>\n",
       "      <td>-0.352258</td>\n",
       "      <td>[26350]</td>\n",
       "      <td>1944-01-01</td>\n",
       "      <td>3259</td>\n",
       "      <td>niche1</td>\n",
       "    </tr>\n",
       "    <tr>\n",
       "      <th>4</th>\n",
       "      <td>-1.190460</td>\n",
       "      <td>-1.266286</td>\n",
       "      <td>-0.823936</td>\n",
       "      <td>-1.210862</td>\n",
       "      <td>-0.991625</td>\n",
       "      <td>0.618804</td>\n",
       "      <td>0.516467</td>\n",
       "      <td>1.465425</td>\n",
       "      <td>1.381830</td>\n",
       "      <td>-0.221915</td>\n",
       "      <td>...</td>\n",
       "      <td>-2.129227</td>\n",
       "      <td>-0.181069</td>\n",
       "      <td>1.925991</td>\n",
       "      <td>-0.42794</td>\n",
       "      <td>-1.046032</td>\n",
       "      <td>-0.352258</td>\n",
       "      <td>[26350]</td>\n",
       "      <td>1944-01-01</td>\n",
       "      <td>3260</td>\n",
       "      <td>niche1</td>\n",
       "    </tr>\n",
       "  </tbody>\n",
       "</table>\n",
       "<p>5 rows × 23 columns</p>\n",
       "</div>"
      ],
      "text/plain": [
       "   danceability    energy   valence     tempo  loudness      mode       key  \\\n",
       "0     -1.417448 -1.625664 -1.143229  0.588683 -0.929159  0.618804  0.516467   \n",
       "1     -0.233427 -1.082774  0.714122 -0.172814 -1.121847  0.618804  0.516467   \n",
       "2     -1.104572 -1.752975 -0.091898  0.290306 -1.246168  0.618804 -0.908235   \n",
       "3     -2.184302 -1.914313 -1.927444 -0.167752 -2.948208  0.618804 -0.053414   \n",
       "4     -1.190460 -1.266286 -0.823936 -1.210862 -0.991625  0.618804  0.516467   \n",
       "\n",
       "   acousticness  instrumentalness  liveness  ...  popularity  musician_cnt  \\\n",
       "0      1.422265          1.328603  1.238703  ...   -2.189136     -0.181069   \n",
       "1      1.528727          1.355216  0.313645  ...   -2.129227     -0.181069   \n",
       "2      1.476934         -0.445792  1.108870  ...   -2.129227     -0.181069   \n",
       "3      1.560378         -0.220303 -0.670920  ...   -2.129227     -0.181069   \n",
       "4      1.465425          1.381830 -0.221915  ...   -2.129227     -0.181069   \n",
       "\n",
       "     niche1   niche2  pop_rock       r_b  artists_id  release_date  music_id  \\\n",
       "0  1.925991 -0.42794 -1.046032 -0.352258     [26350]    1944-01-01      3206   \n",
       "1  1.925991 -0.42794 -1.046032 -0.352258     [26350]    1944-01-01      3227   \n",
       "2  1.925991 -0.42794 -1.046032 -0.352258     [26350]    1944-01-01      3258   \n",
       "3  1.925991 -0.42794 -1.046032 -0.352258     [26350]    1944-01-01      3259   \n",
       "4  1.925991 -0.42794 -1.046032 -0.352258     [26350]    1944-01-01      3260   \n",
       "\n",
       "    genre  \n",
       "0  niche1  \n",
       "1  niche1  \n",
       "2  niche1  \n",
       "3  niche1  \n",
       "4  niche1  \n",
       "\n",
       "[5 rows x 23 columns]"
      ]
     },
     "execution_count": 135,
     "metadata": {},
     "output_type": "execute_result"
    }
   ],
   "source": [
    "music_feature.head()"
   ]
  },
  {
   "cell_type": "code",
   "execution_count": 136,
   "id": "bd2e025f",
   "metadata": {},
   "outputs": [],
   "source": [
    "music_feature.to_csv(r\"rearrange_data/music_features.csv\", index = False)"
   ]
  },
  {
   "cell_type": "code",
   "execution_count": null,
   "id": "bad2c080",
   "metadata": {},
   "outputs": [],
   "source": []
  }
 ],
 "metadata": {
  "kernelspec": {
   "display_name": "Python 3 (ipykernel)",
   "language": "python",
   "name": "python3"
  },
  "language_info": {
   "codemirror_mode": {
    "name": "ipython",
    "version": 3
   },
   "file_extension": ".py",
   "mimetype": "text/x-python",
   "name": "python",
   "nbconvert_exporter": "python",
   "pygments_lexer": "ipython3",
   "version": "3.11.4"
  }
 },
 "nbformat": 4,
 "nbformat_minor": 5
}
