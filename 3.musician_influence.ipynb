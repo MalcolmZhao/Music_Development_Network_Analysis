{
 "cells": [
  {
   "cell_type": "code",
   "execution_count": 2,
   "id": "a59ef42e-11bb-4d54-92d9-b56972bae71f",
   "metadata": {},
   "outputs": [],
   "source": [
    "import pickle\n",
    "import os\n",
    "import numpy as np"
   ]
  },
  {
   "cell_type": "code",
   "execution_count": 3,
   "id": "a22b2b01-686a-4ad9-99d4-8b6e61578074",
   "metadata": {},
   "outputs": [],
   "source": [
    "import warnings\n",
    "warnings.filterwarnings(\"ignore\")"
   ]
  },
  {
   "cell_type": "code",
   "execution_count": 6,
   "id": "39853837-7034-45e2-a16d-b3db002d512e",
   "metadata": {},
   "outputs": [],
   "source": [
    "folder = os.path.abspath(r'./variables')"
   ]
  },
  {
   "cell_type": "code",
   "execution_count": null,
   "id": "8130cb07",
   "metadata": {},
   "outputs": [],
   "source": [
    "filename = open(folder + r'/musician_sequential_0.pkl', 'rb')\n",
    "sample0 = pickle.load(filename)\n",
    "\n",
    "filename = open(folder + r'/musician_sequential_1.pkl', 'rb')\n",
    "sample1 = pickle.load(filename)"
   ]
  },
  {
   "cell_type": "code",
   "execution_count": 14,
   "id": "335442a1",
   "metadata": {},
   "outputs": [],
   "source": [
    "influencer_feature = np.concatenate([sample0[0], sample1[0]])\n",
    "follower_feature = np.concatenate([sample0[1], sample1[1]])\n",
    "\n",
    "with_influence = len(sample1[0])\n",
    "without_influence = len(sample0[0])\n",
    "\n",
    "target = np.array([1 for _ in range(with_influence)] + [0 for _ in range(without_influence)])"
   ]
  },
  {
   "cell_type": "code",
   "execution_count": 16,
   "id": "785aca59-7977-47c8-bf65-2ad042ee8447",
   "metadata": {},
   "outputs": [],
   "source": [
    "idx = np.array(range(with_influence + without_influence))\n",
    "np.random.shuffle(idx)\n",
    "\n",
    "influencer_feature = influencer_feature[idx, :, :]\n",
    "follower_feature = follower_feature[idx, :, :]\n",
    "target = target[idx]"
   ]
  },
  {
   "cell_type": "code",
   "execution_count": 20,
   "id": "469a982d",
   "metadata": {},
   "outputs": [
    {
     "data": {
      "text/plain": [
       "(91145,)"
      ]
     },
     "execution_count": 20,
     "metadata": {},
     "output_type": "execute_result"
    }
   ],
   "source": [
    "target.shape"
   ]
  },
  {
   "cell_type": "code",
   "execution_count": 26,
   "id": "62caded4-e819-4ec9-b6aa-4cae9b852c30",
   "metadata": {},
   "outputs": [],
   "source": [
    "# 按照7: 1.5: 1.5划分训练集、验证集、测试集\n",
    "train_influencer = influencer_feature[:63801, :, :]\n",
    "train_follower = follower_feature[:63801, :, :]\n",
    "train_y = target[:63801]\n",
    "\n",
    "val_influencer =  influencer_feature[63801:77473, :, :]\n",
    "val_follower = follower_feature[63801:77473, :, :]\n",
    "val_y = target[63801:77473]\n",
    "\n",
    "test_influencer =  influencer_feature[77473:, :, :]\n",
    "test_follower = follower_feature[77473:, :, :]\n",
    "test_y = target[77473:]"
   ]
  },
  {
   "cell_type": "code",
   "execution_count": 27,
   "id": "7b045be7-225f-4bbe-992d-456e8f2ebeff",
   "metadata": {},
   "outputs": [],
   "source": [
    "from keras import layers\n",
    "import keras\n",
    "from keras import Input\n",
    "from keras.models import Sequential, Model"
   ]
  },
  {
   "cell_type": "code",
   "execution_count": 11,
   "id": "2b7dac55-4fbb-4ef0-bd24-8f46a5e19930",
   "metadata": {},
   "outputs": [],
   "source": [
    "monitor = [\n",
    "    keras.callbacks.EarlyStopping(\n",
    "        monitor = 'acc',\n",
    "        patience = 3,\n",
    "    ),\n",
    "    keras.callbacks.ModelCheckpoint(\n",
    "        filepath = 'influence_musicians.h5',\n",
    "        monitor = 'val_loss',\n",
    "        save_best_only = True,\n",
    "    )\n",
    "]"
   ]
  },
  {
   "cell_type": "code",
   "execution_count": 12,
   "id": "f58a1d02-ff09-4baf-9895-d90abca1bd69",
   "metadata": {
    "scrolled": true
   },
   "outputs": [
    {
     "name": "stderr",
     "output_type": "stream",
     "text": [
      "2023-10-28 19:57:31.553252: I tensorflow/core/common_runtime/executor.cc:1197] [/device:CPU:0] (DEBUG INFO) Executor start aborting (this does not indicate an error and you can ignore this message): INVALID_ARGUMENT: You must feed a value for placeholder tensor 'gradients/split_2_grad/concat/split_2/split_dim' with dtype int32\n",
      "\t [[{{node gradients/split_2_grad/concat/split_2/split_dim}}]]\n",
      "2023-10-28 19:57:31.555769: I tensorflow/core/common_runtime/executor.cc:1197] [/device:CPU:0] (DEBUG INFO) Executor start aborting (this does not indicate an error and you can ignore this message): INVALID_ARGUMENT: You must feed a value for placeholder tensor 'gradients/split_grad/concat/split/split_dim' with dtype int32\n",
      "\t [[{{node gradients/split_grad/concat/split/split_dim}}]]\n",
      "2023-10-28 19:57:31.558589: I tensorflow/core/common_runtime/executor.cc:1197] [/device:CPU:0] (DEBUG INFO) Executor start aborting (this does not indicate an error and you can ignore this message): INVALID_ARGUMENT: You must feed a value for placeholder tensor 'gradients/split_1_grad/concat/split_1/split_dim' with dtype int32\n",
      "\t [[{{node gradients/split_1_grad/concat/split_1/split_dim}}]]\n",
      "2023-10-28 19:57:31.816859: I tensorflow/core/common_runtime/executor.cc:1197] [/device:CPU:0] (DEBUG INFO) Executor start aborting (this does not indicate an error and you can ignore this message): INVALID_ARGUMENT: You must feed a value for placeholder tensor 'gradients/split_2_grad/concat/split_2/split_dim' with dtype int32\n",
      "\t [[{{node gradients/split_2_grad/concat/split_2/split_dim}}]]\n",
      "2023-10-28 19:57:31.820272: I tensorflow/core/common_runtime/executor.cc:1197] [/device:CPU:0] (DEBUG INFO) Executor start aborting (this does not indicate an error and you can ignore this message): INVALID_ARGUMENT: You must feed a value for placeholder tensor 'gradients/split_grad/concat/split/split_dim' with dtype int32\n",
      "\t [[{{node gradients/split_grad/concat/split/split_dim}}]]\n",
      "2023-10-28 19:57:31.824624: I tensorflow/core/common_runtime/executor.cc:1197] [/device:CPU:0] (DEBUG INFO) Executor start aborting (this does not indicate an error and you can ignore this message): INVALID_ARGUMENT: You must feed a value for placeholder tensor 'gradients/split_1_grad/concat/split_1/split_dim' with dtype int32\n",
      "\t [[{{node gradients/split_1_grad/concat/split_1/split_dim}}]]\n"
     ]
    }
   ],
   "source": [
    "# RNN 结构\n",
    "influencer_input = Input(shape = (20, 33), dtype = \"float64\", name = \"influencer\")\n",
    "memory_influencer = layers.LSTM(512, input_shape = (20, 33), dropout = 0.3)(influencer_input)\n",
    "memory_influencer = layers.Dense(512, activation = \"relu\")(memory_influencer)\n",
    "memory_influencer = layers.Dropout(0.5)(memory_influencer)\n",
    "\n",
    "follower_input = Input(shape = (20, 33), dtype = \"float64\", name = \"follower\") \n",
    "memory_follower = layers.LSTM(256, input_shape = (20, 33), dropout = 0.1)(follower_input)\n",
    "memory_follower = layers.Dense(128, activation = \"relu\")(memory_follower)\n",
    "memory_influencer = layers.Dropout(0.5)(memory_influencer)\n",
    "\n",
    "concatenated = layers.concatenate([memory_influencer, memory_follower], axis = -1)\n",
    "\n",
    "existance = layers.Dense(256, activation = \"relu\")(concatenated)\n",
    "existance = layers.Dense(128, activation = \"relu\")(existance)\n",
    "existance = layers.Dense(64, activation = \"relu\")(existance)\n",
    "existance = layers.Dense(1, activation = \"sigmoid\")(existance)\n",
    "\n",
    "model = Model([influencer_input, follower_input], existance)\n",
    "optimizer = keras.optimizers.RMSprop(lr = 0.01)\n",
    "model.compile(loss='binary_crossentropy', optimizer = optimizer, metrics = [\"acc\"])"
   ]
  },
  {
   "cell_type": "code",
   "execution_count": 13,
   "id": "ed948db1-d696-4d5f-8873-ed750911e940",
   "metadata": {
    "scrolled": true
   },
   "outputs": [
    {
     "name": "stdout",
     "output_type": "stream",
     "text": [
      "Epoch 1/100\n"
     ]
    },
    {
     "name": "stderr",
     "output_type": "stream",
     "text": [
      "2023-10-28 19:57:33.047732: I tensorflow/core/common_runtime/executor.cc:1197] [/device:CPU:0] (DEBUG INFO) Executor start aborting (this does not indicate an error and you can ignore this message): INVALID_ARGUMENT: You must feed a value for placeholder tensor 'gradients/split_2_grad/concat/split_2/split_dim' with dtype int32\n",
      "\t [[{{node gradients/split_2_grad/concat/split_2/split_dim}}]]\n",
      "2023-10-28 19:57:33.050625: I tensorflow/core/common_runtime/executor.cc:1197] [/device:CPU:0] (DEBUG INFO) Executor start aborting (this does not indicate an error and you can ignore this message): INVALID_ARGUMENT: You must feed a value for placeholder tensor 'gradients/split_grad/concat/split/split_dim' with dtype int32\n",
      "\t [[{{node gradients/split_grad/concat/split/split_dim}}]]\n",
      "2023-10-28 19:57:33.056526: I tensorflow/core/common_runtime/executor.cc:1197] [/device:CPU:0] (DEBUG INFO) Executor start aborting (this does not indicate an error and you can ignore this message): INVALID_ARGUMENT: You must feed a value for placeholder tensor 'gradients/split_1_grad/concat/split_1/split_dim' with dtype int32\n",
      "\t [[{{node gradients/split_1_grad/concat/split_1/split_dim}}]]\n",
      "2023-10-28 19:57:33.418805: I tensorflow/core/common_runtime/executor.cc:1197] [/device:CPU:0] (DEBUG INFO) Executor start aborting (this does not indicate an error and you can ignore this message): INVALID_ARGUMENT: You must feed a value for placeholder tensor 'gradients/split_2_grad/concat/split_2/split_dim' with dtype int32\n",
      "\t [[{{node gradients/split_2_grad/concat/split_2/split_dim}}]]\n",
      "2023-10-28 19:57:33.426920: I tensorflow/core/common_runtime/executor.cc:1197] [/device:CPU:0] (DEBUG INFO) Executor start aborting (this does not indicate an error and you can ignore this message): INVALID_ARGUMENT: You must feed a value for placeholder tensor 'gradients/split_grad/concat/split/split_dim' with dtype int32\n",
      "\t [[{{node gradients/split_grad/concat/split/split_dim}}]]\n",
      "2023-10-28 19:57:33.432853: I tensorflow/core/common_runtime/executor.cc:1197] [/device:CPU:0] (DEBUG INFO) Executor start aborting (this does not indicate an error and you can ignore this message): INVALID_ARGUMENT: You must feed a value for placeholder tensor 'gradients/split_1_grad/concat/split_1/split_dim' with dtype int32\n",
      "\t [[{{node gradients/split_1_grad/concat/split_1/split_dim}}]]\n",
      "2023-10-28 19:57:35.375812: I tensorflow/core/common_runtime/executor.cc:1197] [/device:CPU:0] (DEBUG INFO) Executor start aborting (this does not indicate an error and you can ignore this message): INVALID_ARGUMENT: You must feed a value for placeholder tensor 'gradients/split_2_grad/concat/split_2/split_dim' with dtype int32\n",
      "\t [[{{node gradients/split_2_grad/concat/split_2/split_dim}}]]\n",
      "2023-10-28 19:57:35.378227: I tensorflow/core/common_runtime/executor.cc:1197] [/device:CPU:0] (DEBUG INFO) Executor start aborting (this does not indicate an error and you can ignore this message): INVALID_ARGUMENT: You must feed a value for placeholder tensor 'gradients/split_grad/concat/split/split_dim' with dtype int32\n",
      "\t [[{{node gradients/split_grad/concat/split/split_dim}}]]\n",
      "2023-10-28 19:57:35.380003: I tensorflow/core/common_runtime/executor.cc:1197] [/device:CPU:0] (DEBUG INFO) Executor start aborting (this does not indicate an error and you can ignore this message): INVALID_ARGUMENT: You must feed a value for placeholder tensor 'gradients/split_1_grad/concat/split_1/split_dim' with dtype int32\n",
      "\t [[{{node gradients/split_1_grad/concat/split_1/split_dim}}]]\n",
      "2023-10-28 19:57:35.765115: I tensorflow/core/common_runtime/executor.cc:1197] [/device:CPU:0] (DEBUG INFO) Executor start aborting (this does not indicate an error and you can ignore this message): INVALID_ARGUMENT: You must feed a value for placeholder tensor 'gradients/split_2_grad/concat/split_2/split_dim' with dtype int32\n",
      "\t [[{{node gradients/split_2_grad/concat/split_2/split_dim}}]]\n",
      "2023-10-28 19:57:35.769164: I tensorflow/core/common_runtime/executor.cc:1197] [/device:CPU:0] (DEBUG INFO) Executor start aborting (this does not indicate an error and you can ignore this message): INVALID_ARGUMENT: You must feed a value for placeholder tensor 'gradients/split_grad/concat/split/split_dim' with dtype int32\n",
      "\t [[{{node gradients/split_grad/concat/split/split_dim}}]]\n",
      "2023-10-28 19:57:35.771800: I tensorflow/core/common_runtime/executor.cc:1197] [/device:CPU:0] (DEBUG INFO) Executor start aborting (this does not indicate an error and you can ignore this message): INVALID_ARGUMENT: You must feed a value for placeholder tensor 'gradients/split_1_grad/concat/split_1/split_dim' with dtype int32\n",
      "\t [[{{node gradients/split_1_grad/concat/split_1/split_dim}}]]\n"
     ]
    },
    {
     "name": "stdout",
     "output_type": "stream",
     "text": [
      "223/223 [==============================] - ETA: 0s - loss: 0.8743 - acc: 0.5317"
     ]
    },
    {
     "name": "stderr",
     "output_type": "stream",
     "text": [
      "2023-10-28 19:58:02.042612: I tensorflow/core/common_runtime/executor.cc:1197] [/device:CPU:0] (DEBUG INFO) Executor start aborting (this does not indicate an error and you can ignore this message): INVALID_ARGUMENT: You must feed a value for placeholder tensor 'gradients/split_2_grad/concat/split_2/split_dim' with dtype int32\n",
      "\t [[{{node gradients/split_2_grad/concat/split_2/split_dim}}]]\n",
      "2023-10-28 19:58:02.045013: I tensorflow/core/common_runtime/executor.cc:1197] [/device:CPU:0] (DEBUG INFO) Executor start aborting (this does not indicate an error and you can ignore this message): INVALID_ARGUMENT: You must feed a value for placeholder tensor 'gradients/split_grad/concat/split/split_dim' with dtype int32\n",
      "\t [[{{node gradients/split_grad/concat/split/split_dim}}]]\n",
      "2023-10-28 19:58:02.046914: I tensorflow/core/common_runtime/executor.cc:1197] [/device:CPU:0] (DEBUG INFO) Executor start aborting (this does not indicate an error and you can ignore this message): INVALID_ARGUMENT: You must feed a value for placeholder tensor 'gradients/split_1_grad/concat/split_1/split_dim' with dtype int32\n",
      "\t [[{{node gradients/split_1_grad/concat/split_1/split_dim}}]]\n",
      "2023-10-28 19:58:02.310327: I tensorflow/core/common_runtime/executor.cc:1197] [/device:CPU:0] (DEBUG INFO) Executor start aborting (this does not indicate an error and you can ignore this message): INVALID_ARGUMENT: You must feed a value for placeholder tensor 'gradients/split_2_grad/concat/split_2/split_dim' with dtype int32\n",
      "\t [[{{node gradients/split_2_grad/concat/split_2/split_dim}}]]\n",
      "2023-10-28 19:58:02.312772: I tensorflow/core/common_runtime/executor.cc:1197] [/device:CPU:0] (DEBUG INFO) Executor start aborting (this does not indicate an error and you can ignore this message): INVALID_ARGUMENT: You must feed a value for placeholder tensor 'gradients/split_grad/concat/split/split_dim' with dtype int32\n",
      "\t [[{{node gradients/split_grad/concat/split/split_dim}}]]\n",
      "2023-10-28 19:58:02.314814: I tensorflow/core/common_runtime/executor.cc:1197] [/device:CPU:0] (DEBUG INFO) Executor start aborting (this does not indicate an error and you can ignore this message): INVALID_ARGUMENT: You must feed a value for placeholder tensor 'gradients/split_1_grad/concat/split_1/split_dim' with dtype int32\n",
      "\t [[{{node gradients/split_1_grad/concat/split_1/split_dim}}]]\n"
     ]
    },
    {
     "name": "stdout",
     "output_type": "stream",
     "text": [
      "223/223 [==============================] - 32s 118ms/step - loss: 0.8743 - acc: 0.5317 - val_loss: 0.6927 - val_acc: 0.5072\n",
      "Epoch 2/100\n",
      "223/223 [==============================] - 24s 110ms/step - loss: 0.6817 - acc: 0.5311 - val_loss: 0.6587 - val_acc: 0.5579\n",
      "Epoch 3/100\n",
      "223/223 [==============================] - 26s 116ms/step - loss: 0.6689 - acc: 0.5475 - val_loss: 0.6577 - val_acc: 0.5578\n",
      "Epoch 4/100\n",
      "223/223 [==============================] - 26s 117ms/step - loss: 0.6634 - acc: 0.6089 - val_loss: 0.6107 - val_acc: 0.6560\n",
      "Epoch 5/100\n",
      "223/223 [==============================] - 26s 118ms/step - loss: 0.5934 - acc: 0.6844 - val_loss: 0.5443 - val_acc: 0.7144\n",
      "Epoch 6/100\n",
      "223/223 [==============================] - 26s 116ms/step - loss: 0.5523 - acc: 0.7254 - val_loss: 0.5615 - val_acc: 0.7288\n",
      "Epoch 7/100\n",
      "223/223 [==============================] - 26s 118ms/step - loss: 0.5283 - acc: 0.7453 - val_loss: 0.4927 - val_acc: 0.7700\n",
      "Epoch 8/100\n",
      "223/223 [==============================] - 26s 118ms/step - loss: 0.5107 - acc: 0.7599 - val_loss: 0.4897 - val_acc: 0.7834\n",
      "Epoch 9/100\n",
      "223/223 [==============================] - 28s 123ms/step - loss: 0.4998 - acc: 0.7653 - val_loss: 0.4515 - val_acc: 0.7915\n",
      "Epoch 10/100\n",
      "223/223 [==============================] - 28s 126ms/step - loss: 0.4903 - acc: 0.7721 - val_loss: 0.4951 - val_acc: 0.7908\n",
      "Epoch 11/100\n",
      "223/223 [==============================] - 27s 120ms/step - loss: 0.4793 - acc: 0.7800 - val_loss: 0.4854 - val_acc: 0.7977\n",
      "Epoch 12/100\n",
      "223/223 [==============================] - 28s 126ms/step - loss: 0.4694 - acc: 0.7887 - val_loss: 0.7774 - val_acc: 0.7876\n",
      "Epoch 13/100\n",
      "223/223 [==============================] - 28s 127ms/step - loss: 0.4667 - acc: 0.7939 - val_loss: 0.4338 - val_acc: 0.8002\n",
      "Epoch 14/100\n",
      "223/223 [==============================] - 27s 122ms/step - loss: 0.4567 - acc: 0.7936 - val_loss: 0.4668 - val_acc: 0.7979\n",
      "Epoch 15/100\n",
      "223/223 [==============================] - 27s 122ms/step - loss: 0.4483 - acc: 0.7981 - val_loss: 0.4556 - val_acc: 0.8036\n",
      "Epoch 16/100\n",
      "223/223 [==============================] - 28s 125ms/step - loss: 0.4418 - acc: 0.8027 - val_loss: 0.4369 - val_acc: 0.8118\n",
      "Epoch 17/100\n",
      "223/223 [==============================] - 27s 122ms/step - loss: 0.4449 - acc: 0.8041 - val_loss: 0.4756 - val_acc: 0.8022\n",
      "Epoch 18/100\n",
      "223/223 [==============================] - 26s 117ms/step - loss: 0.4347 - acc: 0.8076 - val_loss: 0.4311 - val_acc: 0.8090\n",
      "Epoch 19/100\n",
      "223/223 [==============================] - 28s 125ms/step - loss: 0.4330 - acc: 0.8046 - val_loss: 0.4402 - val_acc: 0.8122\n",
      "Epoch 20/100\n",
      "223/223 [==============================] - 27s 123ms/step - loss: 0.4305 - acc: 0.8083 - val_loss: 0.4231 - val_acc: 0.8106\n",
      "Epoch 21/100\n",
      "223/223 [==============================] - 27s 122ms/step - loss: 0.4345 - acc: 0.8087 - val_loss: 0.4358 - val_acc: 0.8070\n",
      "Epoch 22/100\n",
      "223/223 [==============================] - 27s 120ms/step - loss: 0.4283 - acc: 0.8091 - val_loss: 0.4444 - val_acc: 0.8101\n",
      "Epoch 23/100\n",
      "223/223 [==============================] - 28s 125ms/step - loss: 0.4243 - acc: 0.8135 - val_loss: 0.4922 - val_acc: 0.8093\n",
      "Epoch 24/100\n",
      "223/223 [==============================] - 28s 127ms/step - loss: 0.4209 - acc: 0.8152 - val_loss: 0.4192 - val_acc: 0.8186\n",
      "Epoch 25/100\n",
      "223/223 [==============================] - 27s 120ms/step - loss: 0.4265 - acc: 0.8173 - val_loss: 0.4435 - val_acc: 0.8128\n",
      "Epoch 26/100\n",
      "223/223 [==============================] - 27s 121ms/step - loss: 0.4186 - acc: 0.8164 - val_loss: 0.4321 - val_acc: 0.7941\n",
      "Epoch 27/100\n",
      "223/223 [==============================] - 28s 125ms/step - loss: 0.4154 - acc: 0.8187 - val_loss: 0.4957 - val_acc: 0.7723\n",
      "Epoch 28/100\n",
      "223/223 [==============================] - 28s 125ms/step - loss: 0.4128 - acc: 0.8199 - val_loss: 0.4272 - val_acc: 0.8104\n",
      "Epoch 29/100\n",
      "223/223 [==============================] - 29s 132ms/step - loss: 0.4119 - acc: 0.8206 - val_loss: 0.4180 - val_acc: 0.8237\n",
      "Epoch 30/100\n",
      "223/223 [==============================] - 29s 128ms/step - loss: 0.4127 - acc: 0.8211 - val_loss: 0.4472 - val_acc: 0.8205\n",
      "Epoch 31/100\n",
      "223/223 [==============================] - 27s 123ms/step - loss: 0.4080 - acc: 0.8197 - val_loss: 0.4533 - val_acc: 0.8138\n",
      "Epoch 32/100\n",
      "223/223 [==============================] - 28s 123ms/step - loss: 0.4076 - acc: 0.8219 - val_loss: 0.4508 - val_acc: 0.8161\n",
      "Epoch 33/100\n",
      "223/223 [==============================] - 29s 129ms/step - loss: 0.4095 - acc: 0.8215 - val_loss: 0.4105 - val_acc: 0.8102\n",
      "Epoch 34/100\n",
      "223/223 [==============================] - 28s 125ms/step - loss: 0.4071 - acc: 0.8215 - val_loss: 0.4159 - val_acc: 0.8124\n",
      "Epoch 35/100\n",
      "223/223 [==============================] - 28s 126ms/step - loss: 0.4040 - acc: 0.8237 - val_loss: 0.4017 - val_acc: 0.8136\n",
      "Epoch 36/100\n",
      "223/223 [==============================] - 28s 124ms/step - loss: 0.4043 - acc: 0.8247 - val_loss: 0.4712 - val_acc: 0.8221\n",
      "Epoch 37/100\n",
      "223/223 [==============================] - 29s 129ms/step - loss: 0.4024 - acc: 0.8264 - val_loss: 0.4368 - val_acc: 0.8208\n",
      "Epoch 38/100\n",
      "223/223 [==============================] - 29s 132ms/step - loss: 0.4002 - acc: 0.8253 - val_loss: 0.4182 - val_acc: 0.8193\n",
      "Epoch 39/100\n",
      "223/223 [==============================] - 28s 125ms/step - loss: 0.4002 - acc: 0.8264 - val_loss: 0.4132 - val_acc: 0.8210\n",
      "Epoch 40/100\n",
      "223/223 [==============================] - 29s 130ms/step - loss: 0.4004 - acc: 0.8244 - val_loss: 0.4092 - val_acc: 0.8183\n",
      "Epoch 41/100\n",
      "223/223 [==============================] - 28s 127ms/step - loss: 0.3997 - acc: 0.8253 - val_loss: 0.4024 - val_acc: 0.8209\n",
      "Epoch 42/100\n",
      "223/223 [==============================] - 28s 126ms/step - loss: 0.3933 - acc: 0.8271 - val_loss: 0.4015 - val_acc: 0.8184\n",
      "Epoch 43/100\n",
      "223/223 [==============================] - 30s 133ms/step - loss: 0.3997 - acc: 0.8258 - val_loss: 0.3979 - val_acc: 0.8181\n",
      "Epoch 44/100\n",
      "223/223 [==============================] - 29s 131ms/step - loss: 0.3969 - acc: 0.8274 - val_loss: 0.3997 - val_acc: 0.8240\n",
      "Epoch 45/100\n",
      "223/223 [==============================] - 29s 129ms/step - loss: 0.4015 - acc: 0.8264 - val_loss: 0.4180 - val_acc: 0.8181\n",
      "Epoch 46/100\n",
      "223/223 [==============================] - 28s 127ms/step - loss: 0.4011 - acc: 0.8262 - val_loss: 0.4356 - val_acc: 0.8190\n",
      "Epoch 47/100\n",
      "223/223 [==============================] - 28s 126ms/step - loss: 0.4046 - acc: 0.8270 - val_loss: 0.4577 - val_acc: 0.8130\n"
     ]
    }
   ],
   "source": [
    "history = model.fit([train_influencer, train_follower], train_y, \n",
    "          batch_size = 256, epochs = 100, \n",
    "          validation_data = ([val_influencer, val_follower], val_y), callbacks = monitor)"
   ]
  },
  {
   "cell_type": "code",
   "execution_count": 42,
   "id": "2925b35f-c808-4af1-ab12-ef16e541bee2",
   "metadata": {},
   "outputs": [
    {
     "data": {
      "text/plain": [
       "0.8539583683013916"
      ]
     },
     "execution_count": 42,
     "metadata": {},
     "output_type": "execute_result"
    }
   ],
   "source": [
    "max(history.history[\"val_acc\"])"
   ]
  },
  {
   "cell_type": "code",
   "execution_count": 2,
   "id": "e1f6a67e-45a3-4491-9691-ea7b238d7ff5",
   "metadata": {
    "scrolled": true
   },
   "outputs": [
    {
     "name": "stderr",
     "output_type": "stream",
     "text": [
      "2023-10-29 14:31:56.335062: I tensorflow/core/platform/cpu_feature_guard.cc:182] This TensorFlow binary is optimized to use available CPU instructions in performance-critical operations.\n",
      "To enable the following instructions: AVX2 FMA, in other operations, rebuild TensorFlow with the appropriate compiler flags.\n",
      "2023-10-29 14:31:58.149079: W tensorflow/compiler/tf2tensorrt/utils/py_utils.cc:38] TF-TRT Warning: Could not find TensorRT\n"
     ]
    }
   ],
   "source": [
    "from keras.models import load_model"
   ]
  },
  {
   "cell_type": "code",
   "execution_count": 3,
   "id": "3c2566a5-4672-4c1e-bffc-90aa7df2f34c",
   "metadata": {
    "scrolled": true
   },
   "outputs": [
    {
     "name": "stderr",
     "output_type": "stream",
     "text": [
      "2023-10-29 14:32:01.609382: I tensorflow/compiler/xla/stream_executor/cuda/cuda_gpu_executor.cc:982] could not open file to read NUMA node: /sys/bus/pci/devices/0000:01:00.0/numa_node\n",
      "Your kernel may have been built without NUMA support.\n",
      "2023-10-29 14:32:01.797491: I tensorflow/compiler/xla/stream_executor/cuda/cuda_gpu_executor.cc:982] could not open file to read NUMA node: /sys/bus/pci/devices/0000:01:00.0/numa_node\n",
      "Your kernel may have been built without NUMA support.\n",
      "2023-10-29 14:32:01.798147: I tensorflow/compiler/xla/stream_executor/cuda/cuda_gpu_executor.cc:982] could not open file to read NUMA node: /sys/bus/pci/devices/0000:01:00.0/numa_node\n",
      "Your kernel may have been built without NUMA support.\n",
      "2023-10-29 14:32:01.800741: I tensorflow/compiler/xla/stream_executor/cuda/cuda_gpu_executor.cc:982] could not open file to read NUMA node: /sys/bus/pci/devices/0000:01:00.0/numa_node\n",
      "Your kernel may have been built without NUMA support.\n",
      "2023-10-29 14:32:01.801453: I tensorflow/compiler/xla/stream_executor/cuda/cuda_gpu_executor.cc:982] could not open file to read NUMA node: /sys/bus/pci/devices/0000:01:00.0/numa_node\n",
      "Your kernel may have been built without NUMA support.\n",
      "2023-10-29 14:32:01.801997: I tensorflow/compiler/xla/stream_executor/cuda/cuda_gpu_executor.cc:982] could not open file to read NUMA node: /sys/bus/pci/devices/0000:01:00.0/numa_node\n",
      "Your kernel may have been built without NUMA support.\n",
      "2023-10-29 14:32:03.868997: I tensorflow/compiler/xla/stream_executor/cuda/cuda_gpu_executor.cc:982] could not open file to read NUMA node: /sys/bus/pci/devices/0000:01:00.0/numa_node\n",
      "Your kernel may have been built without NUMA support.\n",
      "2023-10-29 14:32:03.869921: I tensorflow/compiler/xla/stream_executor/cuda/cuda_gpu_executor.cc:982] could not open file to read NUMA node: /sys/bus/pci/devices/0000:01:00.0/numa_node\n",
      "Your kernel may have been built without NUMA support.\n",
      "2023-10-29 14:32:03.869937: I tensorflow/core/common_runtime/gpu/gpu_device.cc:1722] Could not identify NUMA node of platform GPU id 0, defaulting to 0.  Your kernel may not have been built with NUMA support.\n",
      "2023-10-29 14:32:03.870657: I tensorflow/compiler/xla/stream_executor/cuda/cuda_gpu_executor.cc:982] could not open file to read NUMA node: /sys/bus/pci/devices/0000:01:00.0/numa_node\n",
      "Your kernel may have been built without NUMA support.\n",
      "2023-10-29 14:32:03.870697: I tensorflow/core/common_runtime/gpu/gpu_device.cc:1635] Created device /job:localhost/replica:0/task:0/device:GPU:0 with 2717 MB memory:  -> device: 0, name: Quadro P620, pci bus id: 0000:01:00.0, compute capability: 6.1\n",
      "2023-10-29 14:32:04.378801: I tensorflow/core/common_runtime/executor.cc:1197] [/device:CPU:0] (DEBUG INFO) Executor start aborting (this does not indicate an error and you can ignore this message): INVALID_ARGUMENT: You must feed a value for placeholder tensor 'gradients/split_2_grad/concat/split_2/split_dim' with dtype int32\n",
      "\t [[{{node gradients/split_2_grad/concat/split_2/split_dim}}]]\n",
      "2023-10-29 14:32:04.380097: I tensorflow/core/common_runtime/executor.cc:1197] [/device:CPU:0] (DEBUG INFO) Executor start aborting (this does not indicate an error and you can ignore this message): INVALID_ARGUMENT: You must feed a value for placeholder tensor 'gradients/split_grad/concat/split/split_dim' with dtype int32\n",
      "\t [[{{node gradients/split_grad/concat/split/split_dim}}]]\n",
      "2023-10-29 14:32:04.381574: I tensorflow/core/common_runtime/executor.cc:1197] [/device:CPU:0] (DEBUG INFO) Executor start aborting (this does not indicate an error and you can ignore this message): INVALID_ARGUMENT: You must feed a value for placeholder tensor 'gradients/split_1_grad/concat/split_1/split_dim' with dtype int32\n",
      "\t [[{{node gradients/split_1_grad/concat/split_1/split_dim}}]]\n",
      "2023-10-29 14:32:04.680094: I tensorflow/core/common_runtime/executor.cc:1197] [/device:CPU:0] (DEBUG INFO) Executor start aborting (this does not indicate an error and you can ignore this message): INVALID_ARGUMENT: You must feed a value for placeholder tensor 'gradients/split_2_grad/concat/split_2/split_dim' with dtype int32\n",
      "\t [[{{node gradients/split_2_grad/concat/split_2/split_dim}}]]\n",
      "2023-10-29 14:32:04.681534: I tensorflow/core/common_runtime/executor.cc:1197] [/device:CPU:0] (DEBUG INFO) Executor start aborting (this does not indicate an error and you can ignore this message): INVALID_ARGUMENT: You must feed a value for placeholder tensor 'gradients/split_grad/concat/split/split_dim' with dtype int32\n",
      "\t [[{{node gradients/split_grad/concat/split/split_dim}}]]\n",
      "2023-10-29 14:32:04.683797: I tensorflow/core/common_runtime/executor.cc:1197] [/device:CPU:0] (DEBUG INFO) Executor start aborting (this does not indicate an error and you can ignore this message): INVALID_ARGUMENT: You must feed a value for placeholder tensor 'gradients/split_1_grad/concat/split_1/split_dim' with dtype int32\n",
      "\t [[{{node gradients/split_1_grad/concat/split_1/split_dim}}]]\n"
     ]
    }
   ],
   "source": [
    "influence_musicians = load_model(\"influence_musicians8570.h5\")"
   ]
  },
  {
   "cell_type": "code",
   "execution_count": 20,
   "id": "d38c986c-6893-4b1d-8db8-7c9805a9ab29",
   "metadata": {},
   "outputs": [
    {
     "name": "stdout",
     "output_type": "stream",
     "text": [
      "Model: \"model\"\n",
      "__________________________________________________________________________________________________\n",
      " Layer (type)                   Output Shape         Param #     Connected to                     \n",
      "==================================================================================================\n",
      " influencer (InputLayer)        [(None, 20, 33)]     0           []                               \n",
      "                                                                                                  \n",
      " lstm (LSTM)                    (None, 512)          1118208     ['influencer[0][0]']             \n",
      "                                                                                                  \n",
      " follower (InputLayer)          [(None, 20, 33)]     0           []                               \n",
      "                                                                                                  \n",
      " dense (Dense)                  (None, 512)          262656      ['lstm[0][0]']                   \n",
      "                                                                                                  \n",
      " lstm_1 (LSTM)                  (None, 256)          296960      ['follower[0][0]']               \n",
      "                                                                                                  \n",
      " dropout (Dropout)              (None, 512)          0           ['dense[0][0]']                  \n",
      "                                                                                                  \n",
      " dense_1 (Dense)                (None, 128)          32896       ['lstm_1[0][0]']                 \n",
      "                                                                                                  \n",
      " concatenate (Concatenate)      (None, 640)          0           ['dropout[0][0]',                \n",
      "                                                                  'dense_1[0][0]']                \n",
      "                                                                                                  \n",
      " dense_2 (Dense)                (None, 256)          164096      ['concatenate[0][0]']            \n",
      "                                                                                                  \n",
      " dense_3 (Dense)                (None, 128)          32896       ['dense_2[0][0]']                \n",
      "                                                                                                  \n",
      " dense_4 (Dense)                (None, 64)           8256        ['dense_3[0][0]']                \n",
      "                                                                                                  \n",
      " dense_5 (Dense)                (None, 1)            65          ['dense_4[0][0]']                \n",
      "                                                                                                  \n",
      "==================================================================================================\n",
      "Total params: 1,916,033\n",
      "Trainable params: 1,916,033\n",
      "Non-trainable params: 0\n",
      "__________________________________________________________________________________________________\n"
     ]
    }
   ],
   "source": [
    "influence_musicians.summary()"
   ]
  },
  {
   "cell_type": "code",
   "execution_count": null,
   "id": "30b1dab6",
   "metadata": {},
   "outputs": [],
   "source": [
    "# 利用验证集找到benchmark来判断variable是0还是1\n",
    "\n",
    "val_prob = influence_musicians.predict([val_influencer, val_follower])\n",
    "\n",
    "hash_table = {}"
   ]
  },
  {
   "cell_type": "code",
   "execution_count": 34,
   "id": "2d8c7ded-1da8-48e1-831b-cb91d550f7f9",
   "metadata": {},
   "outputs": [],
   "source": [
    "from sklearn.metrics import accuracy_score"
   ]
  },
  {
   "cell_type": "code",
   "execution_count": 35,
   "id": "9fb1efbd-f184-43ad-8e68-c119450ec453",
   "metadata": {},
   "outputs": [],
   "source": [
    "for bar in np.linspace(0.35, 0.45, 1000):\n",
    "    val_pred = np.array([1 if val_prob[i] >= bar else 0 for i in range(len(val_prob))])\n",
    "    accuracy = accuracy_score(val_y, val_pred)\n",
    "    hash_table[bar] = accuracy"
   ]
  },
  {
   "cell_type": "code",
   "execution_count": 36,
   "id": "cfa73e40-52da-48f7-9b5d-d66469ef1e5c",
   "metadata": {},
   "outputs": [
    {
     "data": {
      "text/plain": [
       "0.40895895895895895"
      ]
     },
     "execution_count": 36,
     "metadata": {},
     "output_type": "execute_result"
    }
   ],
   "source": [
    "list(hash_table.keys())[np.argmax(np.array(list(hash_table.values())))]"
   ]
  },
  {
   "cell_type": "code",
   "execution_count": 37,
   "id": "745b99b7-3f95-4b89-b12f-4455e228dca5",
   "metadata": {},
   "outputs": [],
   "source": [
    "bar = 0.40896"
   ]
  },
  {
   "cell_type": "code",
   "execution_count": 38,
   "id": "b196ed62-aea4-4173-882d-7e5b196d02f4",
   "metadata": {},
   "outputs": [
    {
     "name": "stdout",
     "output_type": "stream",
     "text": [
      "382/382 [==============================] - 5s 12ms/step\n"
     ]
    }
   ],
   "source": [
    "test_prob = influence_musicians.predict([test_influencer, test_follower])"
   ]
  },
  {
   "cell_type": "code",
   "execution_count": 39,
   "id": "646295df-58d2-4560-87ba-88cecfa7285c",
   "metadata": {},
   "outputs": [],
   "source": [
    "test_pred = np.array([1 if test_prob[i] >= bar else 0 for i in range(len(test_prob))])"
   ]
  },
  {
   "cell_type": "code",
   "execution_count": 41,
   "id": "cad80eac-4553-493a-a236-31356e1c8b28",
   "metadata": {},
   "outputs": [
    {
     "data": {
      "text/plain": [
       "0.8423338523313939"
      ]
     },
     "execution_count": 41,
     "metadata": {},
     "output_type": "execute_result"
    }
   ],
   "source": [
    "accuracy = accuracy_score(test_y, test_pred)\n",
    "accuracy"
   ]
  },
  {
   "cell_type": "code",
   "execution_count": 44,
   "id": "754949de-b860-4b49-92f9-4e8dc0c7ea21",
   "metadata": {},
   "outputs": [],
   "source": [
    "from sklearn.metrics import roc_curve, auc"
   ]
  },
  {
   "cell_type": "code",
   "execution_count": 46,
   "id": "35383099-fe46-4398-83f8-5d4e683fef22",
   "metadata": {
    "scrolled": true
   },
   "outputs": [
    {
     "data": {
      "text/plain": [
       "0.8424902409058185"
      ]
     },
     "execution_count": 46,
     "metadata": {},
     "output_type": "execute_result"
    }
   ],
   "source": [
    "fpr, tpr, _  = roc_curve(test_y, test_pred)\n",
    "auc(fpr, tpr)"
   ]
  },
  {
   "cell_type": "code",
   "execution_count": null,
   "id": "e50cdc01-eb17-4d9a-ae75-8abd74cdd510",
   "metadata": {},
   "outputs": [],
   "source": []
  }
 ],
 "metadata": {
  "kernelspec": {
   "display_name": "Python 3 (ipykernel)",
   "language": "python",
   "name": "python3"
  },
  "language_info": {
   "codemirror_mode": {
    "name": "ipython",
    "version": 3
   },
   "file_extension": ".py",
   "mimetype": "text/x-python",
   "name": "python",
   "nbconvert_exporter": "python",
   "pygments_lexer": "ipython3",
   "version": "3.11.4"
  }
 },
 "nbformat": 4,
 "nbformat_minor": 5
}
